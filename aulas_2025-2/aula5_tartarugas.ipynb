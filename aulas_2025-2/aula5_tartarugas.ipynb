{
  "nbformat": 4,
  "nbformat_minor": 0,
  "metadata": {
    "kernelspec": {
      "display_name": "Python 3",
      "language": "python",
      "name": "python3"
    },
    "language_info": {
      "codemirror_mode": {
        "name": "ipython",
        "version": 3
      },
      "file_extension": ".py",
      "mimetype": "text/x-python",
      "name": "python",
      "nbconvert_exporter": "python",
      "pygments_lexer": "ipython3",
      "version": "3.6.4"
    },
    "colab": {
      "name": "aula5_tartarugas.ipynb",
      "provenance": [],
      "include_colab_link": true
    }
  },
  "cells": [
    {
      "cell_type": "markdown",
      "metadata": {
        "id": "view-in-github",
        "colab_type": "text"
      },
      "source": [
        "<a href=\"https://colab.research.google.com/github/malbouis/Python_intro/blob/master/aulas_2025-2/aula5_tartarugas.ipynb\" target=\"_parent\"><img src=\"https://colab.research.google.com/assets/colab-badge.svg\" alt=\"Open In Colab\"/></a>"
      ]
    },
    {
      "cell_type": "markdown",
      "metadata": {
        "id": "LirCMXjtyhlV"
      },
      "source": [
        "# Tartarugas!\n",
        "\n",
        "AVISO: essa aula foi feita em sua quase totalidade como tradução do capítulo 3 do livro texto: http://openbookproject.net/thinkcs/python/english3e/index.html\n",
        "\n",
        "Referência: http://greenteapress.com/thinkpython2/html/thinkpython2005.html#sec42"
      ]
    },
    {
      "cell_type": "markdown",
      "metadata": {
        "id": "dr7InMQFyhlf"
      },
      "source": [
        "Existem **muitos** módulos em Python que fornecem recursos muito poderosos que podemos usar.\n",
        "   * Alguns enviam e-mails ou buscam páginas da web;\n",
        "   * outros fazem histogramas\n",
        "   * ou cálculo matricial\n",
        "   * ou gráficos\n",
        "   * ou até mesmo jogos, entre vários outros.\n",
        "   \n",
        "O módulo que veremos neste capítulo nos permite criar **tartarugas** e fazê-las desenhar formas e padrões.\n",
        "\n",
        "A maior parte do Python aqui abordado será explorada com mais profundidade posteriormente."
      ]
    },
    {
      "cell_type": "markdown",
      "metadata": {
        "id": "x95KfupUyhlg"
      },
      "source": [
        "## Nosso primeiro programa de tartaruga\n",
        "\n",
        "Criaremos em Python uma nova tartaruga e vamos **desenhar um retângulo**.\n",
        "\n",
        "Nossa tartaruguinha se chamará joana.\n",
        "\n",
        "**ATENÇÃO!!**\n",
        "\n",
        "\n",
        "O código que estamos mostrando abaixo não funciona no Google Colab pois esse não temo módulo `turtle` instalado.\n",
        "\n",
        "Para executar os códigos com os exemplos de tartaruga, use o [trinket](https://trinket.io/turtle)"
      ]
    },
    {
      "cell_type": "code",
      "metadata": {
        "id": "BzB0uRMdyhlh"
      },
      "source": [
        "import turtle             # nos permite usar as tartarugas (turtles)\n",
        "jn = turtle.Screen()      # Abre uma janela onde as tartarugas vão caminhar\n",
        "joana = turtle.Turtle()    # Cria uma tartaruga, atribui a joana\n",
        "\n",
        "joana.forward(50)          # diz para joana andar para frente por 50 unidades\n",
        "joana.left(90)             # diz para joana virar de 90 graus\n",
        "joana.forward(30)          # Completa o segundo lado do retângulo\n",
        "\n",
        "jn.mainloop()             # Espera o usuário fechar a janela"
      ],
      "execution_count": null,
      "outputs": []
    },
    {
      "cell_type": "markdown",
      "metadata": {
        "id": "RLL4BqQEyhli"
      },
      "source": [
        "O que acontece ao rodar o programa acima?"
      ]
    },
    {
      "cell_type": "markdown",
      "metadata": {
        "id": "1qupWJvsyhli"
      },
      "source": [
        "### Observações sobre o código acima\n",
        "\n",
        "* ***import turtle***: carregar um módulo chamado tartaruga.\n",
        "   * Esse módulo nos traz dois novos **tipos** que podemos usar: **o tipo Turtle e o tipo Screen**.\n",
        "   * A notação de ponto ***turtle.Turtle*** significa “O tipo de tartaruga que é definido dentro do módulo de tartaruga”.\n",
        "\n",
        "\n",
        "\n",
        "* ***jn = turtle.Screen()***: criar e abrir o que chamamos de janela, que atribuímos à variável jn.\n",
        "   * Cada janela contém uma **canvas**(tela), que é a área dentro da janela na qual podemos desenhar.\n",
        "\n",
        "\n",
        "\n",
        "* ***joana = turtle.Turtle()***: criar uma tartaruga. A variável ***joana*** é declarada para se referir a esta tartaruga.\n",
        "\n",
        "\n",
        "\n",
        "* Essas três primeiras linhas se encarregaram das defições. Estamos prontos para fazer com que nossa tartaruga desenhe na tela.\n",
        "\n",
        "\n",
        "\n",
        "* **Invocar ou ativar os métodos do objeto joana**: fazer joana se mover e a girar.\n",
        "   * joana.forward(50)\n",
        "   * joana.left(90)\n",
        "   \n",
        "   \n",
        "   \n",
        "* método mainloop: o programa só terminará quando o usuário fechar a janela.\n",
        "\n",
        "\n",
        "\n",
        "* **Um objeto pode ter vários métodos** - coisas que ele pode fazer - **e também pode ter atributos**  \n",
        "   * cada tartaruga tem um atributo de **cor**: A invocação do método joana.color (\"red\") tornará joana vermelha (red), e o desenho será vermelho também.\n",
        "\n",
        "\n",
        "\n",
        "* **Estado** atual da tartaruga: é o conjunto de atributos atuais, e também posição, rotação, etc, ...\n",
        "   * O objeto da janela tem uma cor de fundo, texto na barra de título e um tamanho e posição na tela. Tudo isso faz parte do **estado do objeto** da janela.\n",
        "\n",
        "\n",
        "\n",
        "* Existe um grande número de **métodos que nos permitem modificar a tartaruga e os objetos da janela**.\n",
        "\n"
      ]
    },
    {
      "cell_type": "code",
      "metadata": {
        "id": "Rlojm9LFyhlk"
      },
      "source": [
        "import turtle\n",
        "jn = turtle.Screen()\n",
        "jn.bgcolor(\"lightgreen\")      # Definir a cor de fundo da janela\n",
        "\n",
        "teca = turtle.Turtle()\n",
        "teca.color(\"blue\")            # Dizer à Teca para mudar sua cor (atributo)\n",
        "teca.pensize(3)               # Diga a Teca para ajustar a largura da caneta (atributo)\n",
        "\n",
        "teca.forward(50)\n",
        "teca.left(120)\n",
        "teca.forward(50)\n",
        "\n",
        "jn.mainloop()"
      ],
      "execution_count": null,
      "outputs": []
    },
    {
      "cell_type": "markdown",
      "metadata": {
        "id": "N2Ipmry-yhlk"
      },
      "source": [
        "## Instâncias - uma manada de tartarugas\n",
        "\n",
        "Assim como podemos ter muitos inteiros diferentes em um programa, podemos ter muitas tartarugas.\n",
        "\n",
        "* **Cada tartaruga é chamada de uma *instância*** .\n",
        "   * Cada instância tem seus próprios **atributos** e **métodos**"
      ]
    },
    {
      "cell_type": "code",
      "metadata": {
        "id": "3qx1h4vRyhll"
      },
      "source": [
        "import turtle\n",
        "jn = turtle.Screen()         # Configurar a janela e seus atributos\n",
        "jn.bgcolor(\"lightblue\")\n",
        "jn.title(\"Tess & Alex\")\n",
        "\n",
        "teca = turtle.Turtle()       # Criar e configurar alguns atributos de Teca\n",
        "teca.color(\"hotpink\")\n",
        "teca.pensize(5)\n",
        "\n",
        "joana = turtle.Turtle()       # Criar Joana\n",
        "\n",
        "teca.forward(80)             # Fazer Teca desenhar um triângulo equilátero\n",
        "teca.left(120)\n",
        "teca.forward(80)\n",
        "teca.left(120)\n",
        "teca.forward(80)\n",
        "teca.left(120)               # Completar o triângulo\n",
        "\n",
        "teca.right(180)              # Fazer Teca dar meia volta\n",
        "teca.forward(80)             # Movê-la para longe da origem\n",
        "\n",
        "joana.forward(50)             # Fazer Joana desenhar um quadrado\n",
        "joana.left(90)\n",
        "joana.forward(50)\n",
        "joana.left(90)\n",
        "joana.forward(50)\n",
        "joana.left(90)\n",
        "joana.forward(50)\n",
        "joana.left(90)\n",
        "\n",
        "jn.mainloop()\n"
      ],
      "execution_count": null,
      "outputs": []
    },
    {
      "cell_type": "markdown",
      "metadata": {
        "id": "nwIOocZEyhlm"
      },
      "source": [
        "### O faz o código acima?\n",
        "Tente você mesmo!\n",
        "\n",
        "\n",
        "Ok, duas tartarugas podem não ser suficientes para um rebanho.\n",
        "\n",
        "Mas a ideia importante é que o módulo de tartaruga nos proporciona uma espécie de fábrica que nos permite criar tantas tartarugas quanto precisamos.\n",
        "\n",
        "\n",
        "***Cada instância tem seu próprio estado e comportamento.***"
      ]
    },
    {
      "cell_type": "markdown",
      "metadata": {
        "id": "e40rY8kiyhlu"
      },
      "source": [
        "## O *loop* for\n",
        "\n",
        "Quando desenhamos o quadrado, tivemos que repetir explicitamente os passos de se mover e girar ***quatro vezes***. Se estivéssemos desenhando um hexágono ou um polígono com 42 lados, teria sido pior.\n",
        "\n",
        "\n",
        "\n",
        "Portanto, um bloco de construção básico de todos os programas é poder **repetir alguns códigos repetidas vezes.**\n",
        "\n",
        "\n",
        "\n",
        "O ***loop*** de Python resolve isso.\n",
        "\n",
        "Digamos que temos alguns amigos e gostaríamos de enviar a eles um e-mail convidando-os para a nossa festa. Ainda não sabemos como enviar e-mails, então, por enquanto, apenas imprimiremos uma mensagem para cada amigo:"
      ]
    },
    {
      "cell_type": "code",
      "metadata": {
        "id": "BVIhsxmeyhlv",
        "outputId": "badc4706-f504-47d3-bc6a-bb815259566a"
      },
      "source": [
        "for f in [\"José\",\"Zoe\",\"Bruno\",\"Angélica\",\"Zacarias\",\"Thandi\",\"Paris\"]:\n",
        "    convite = \"Oi \" + f + \".  Você está convidadx para minha festa no Sábado!\"\n",
        "    print(convite)"
      ],
      "execution_count": null,
      "outputs": [
        {
          "name": "stdout",
          "output_type": "stream",
          "text": [
            "Oi José.  Você está convidadx para minha festa no Sábado!\n",
            "Oi Zoe.  Você está convidadx para minha festa no Sábado!\n",
            "Oi Bruno.  Você está convidadx para minha festa no Sábado!\n",
            "Oi Angélica.  Você está convidadx para minha festa no Sábado!\n",
            "Oi Zacarias.  Você está convidadx para minha festa no Sábado!\n",
            "Oi Thandi.  Você está convidadx para minha festa no Sábado!\n",
            "Oi Paris.  Você está convidadx para minha festa no Sábado!\n"
          ]
        }
      ]
    },
    {
      "cell_type": "markdown",
      "metadata": {
        "id": "IhrKzKbSyhly"
      },
      "source": [
        "* A variável ***f*** na instrução for na linha 1 é chamada de **variável de loop**. Pode ser qualquer nome de variável.\n",
        "\n",
        "\n",
        "* As linhas 2 e 3 são o **corpo do loop**. O corpo do loop é sempre ***indentado***. O recuo determina exatamente quais instruções estão “no corpo do loop”.\n",
        "\n",
        "\n",
        "* Em cada **iteração** (ou passagem do loop):\n",
        "   * uma verificação é feita para ver se ainda há mais itens a serem processados.\n",
        "   \n",
        "   * Caso não haja nenhum item a ser processado, o loop terminou. Isso é chamado de **condição de terminação do loop**.\n",
        "   \n",
        "   * A execução do programa continua na próxima instrução após o corpo do loop.\n",
        "   \n",
        "   * Se ainda houver itens a serem processados, a variável de loop será atualizada para se referir ao próximo item da lista. Isto significa, neste caso, que o corpo do loop é executado aqui 7 vezes, e cada vez f se referirá a um amigo diferente.\n",
        "   \n",
        "   * No final de cada execução do corpo do loop, o Python retorna à instrução for, para ver se há mais itens a serem manipulados e para atribuir o próximo a f."
      ]
    },
    {
      "cell_type": "markdown",
      "metadata": {
        "id": "lJpAIPPJyhlz"
      },
      "source": [
        "## Fluxo de Execução do loop for\n",
        "\n",
        "Conforme um programa é executado, o interpretador sempre registra qual declaração está prestes a ser executada. Chamamos isso de **fluxo de controle**, do **fluxo de execução do programa**.\n",
        "\n",
        "O **fluxo de controle** é geralmente fácil de visualizar e entender se desenharmos um **fluxograma**. Isso mostra as etapas exatas e a lógica de como a instrução ***for*** é executada.\n",
        "\n",
        "![title](https://github.com/malbouis/Python_intro/blob/master/aulas_2019/pics/fluxograma.png?raw=1)"
      ]
    },
    {
      "cell_type": "markdown",
      "metadata": {
        "id": "MIgfu-KGyhl0"
      },
      "source": [
        "## O loop simplifica nosso programa de tartarugas\n",
        "\n",
        "Podemos usar apenas 3 linhas ao invés de oito, para desenhar o quadrado de ***joana***"
      ]
    },
    {
      "cell_type": "code",
      "metadata": {
        "id": "qasP1KNGyhl1"
      },
      "source": [
        "jn = turtle.Screen()\n",
        "joana = turtle.Turtle()\n",
        "for i in [0,1,2,3]:\n",
        "    joana.forward(50)\n",
        "    joana.left(90)\n",
        "jn.mainloop()"
      ],
      "execution_count": null,
      "outputs": []
    },
    {
      "cell_type": "markdown",
      "metadata": {
        "id": "9mn8NCElyhl1"
      },
      "source": [
        "O importante aqui é **encontrar um padrão de repetição de declarações** e reorganizar o programa levando esses padrões em consideração.\n",
        "\n",
        "\n",
        "Podemos reescrever as linhas acima, usando uma função *built-in* do python, *range*.\n",
        "\n",
        "\n",
        "Em, python, começamos toda indexação em 0 (zero)."
      ]
    },
    {
      "cell_type": "code",
      "metadata": {
        "id": "aNs2ypBkyhl2"
      },
      "source": [
        "jn = turtle.Screen()\n",
        "joana = turtle.Turtle()\n",
        "for i in range(4):\n",
        "    joana.forward(50)\n",
        "    joana.left(90)\n",
        "jn.mainloop()"
      ],
      "execution_count": null,
      "outputs": []
    },
    {
      "cell_type": "markdown",
      "metadata": {
        "id": "yp8k9IDByhl2"
      },
      "source": [
        "#### Caso queira desenhar cada lado do quadrado com uma cor:"
      ]
    },
    {
      "cell_type": "code",
      "metadata": {
        "id": "ILEF6e8gyhl2"
      },
      "source": [
        "jn = turtle.Screen()\n",
        "joana = turtle.Turtle()\n",
        "cores = [\"yellow\", \"red\", \"purple\", \"blue\"]\n",
        "for i in cores:\n",
        "    joana.color(i)\n",
        "    joana.forward(50)\n",
        "    joana.left(90)"
      ],
      "execution_count": null,
      "outputs": []
    },
    {
      "cell_type": "markdown",
      "metadata": {
        "id": "9qxCNQPhyhl2"
      },
      "source": [
        "### Exercícios:\n",
        "1. Modifique o programa da tartaruga (primeiro exemplo) para que, antes de criar a janela, ele solicite que o usuário insira a cor de fundo desejada. Ele deve armazenar as respostas do usuário em uma variável e modificar a cor da janela de acordo com os desejos do usuário.\n",
        "   * ***Dicas***: faça uso da função ***input***, built-in do python\n",
        "   * você pode encontrar uma lista de nomes de cores permitidos em http://www.tcl.tk/man/tcl8.4/TkCmd/colors.htm. Inclui alguns bem incomuns, como “peach puff” e “HotPink” ”***\n",
        "   \n",
        "1. Faça modificações similares para permitir que o usuário mude a cor da tartaruga durante a execução do programa.\n",
        "   1. Faça o mesmo para a largura da caneta da tartaruga. *Dica: seu diálogo com o usuário retornará uma string, mas o método **pensize** espera que seu argumento seja um **int**. Então, você precisará converter a **string** em um **int** antes de passá-la para **pensize**.*   \n",
        "   \n",
        "1. Investiguem os métodos e tipos do módulo turtle;\n",
        "\n",
        "1. Desenhe um quadrado, usando a forma de tartaruga, ao invés da flecha, para desenhar.\n",
        "   1. mude a velocidade com que a tartaruga faz o desenho\n",
        "   \n",
        "1. Sabendo que o ângulo interno da ponta de uma estrela de 5 pontas é de 36 graus, desenhe uma estrela em uma janela.\n",
        "![title](https://github.com/malbouis/Python_intro/blob/master/aulas_2019/pics/estrela.png?raw=1)\n",
        "\n",
        "1. Sabendo o ângulo interno da ponta de uma estrela, desenhe quatro estrelas em uma janela, com uma certa distância entre elas. Dica: use a função penup() e pendown() do módulo turtle"
      ]
    },
    {
      "cell_type": "markdown",
      "metadata": {
        "id": "b2s6FcByyhl-"
      },
      "source": [
        "### Exercícios em preparação para os próximos capítulos\n",
        "\n",
        "1. Escreva uma função chamada `square`, que toma um parâmetro `t`, que é uma `Turtle`. Essa função deve usar o `turtle` para desenhar um quadrado. Escreva uma chamada de função que passe `joana` como argumento para `square` e rode o programa novamente.\n",
        "\n",
        "1. Adicione um outro parâmetro, chamado `length`, à função `square`. Modifique o corpo da função de tal forma que o comprimento dos lados do quadrado seja `length` e então modifique a chamada da função para que seja passado o segundo argumento. Rode o programa novamente. Teste o seu programa com diversos valores para `length`.\n",
        "\n",
        "1. Faça uma cópia da função `square` e mude o nome para `polygon`. Adicione um outro parâmetro chamado `n` e modifique o corpo da função para que ela desenhe um polígono regular de `n` lados. Dica: Os ângulos externos de um polígono regular de `n` lados são de `360/n` graus.  \n",
        "\n",
        "1. Escreva uma função chamada `circle` que toma como argumento uma `Turtle`, `t`, e um raio, `r`, e desenha um círculo aproximado ao chamar a função `polygon` com `length` e número `n` de lados apropriados. Teste sua função com um intervalo de valores de `r`. Dica: Determine a circunferência do círculo e se certifique que `comprimento * n = circunferência`.\n",
        "\n",
        "1. Faça uma versão mais geral da função `circle`, chamada `arc`, que toma um parâmetro adicional, `angle`, que determina qual a fração do circulo a ser desenhada. `angle` está em unidades de graus, logo quando `angle=360`, a função `arc` deve desenhar um cículo completo.\n"
      ]
    }
  ]
}