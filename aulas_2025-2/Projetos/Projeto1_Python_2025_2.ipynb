{
  "nbformat": 4,
  "nbformat_minor": 0,
  "metadata": {
    "colab": {
      "provenance": [],
      "authorship_tag": "ABX9TyO4era4GLTHQLfKJKnqSE7L",
      "include_colab_link": true
    },
    "kernelspec": {
      "name": "python3",
      "display_name": "Python 3"
    },
    "language_info": {
      "name": "python"
    }
  },
  "cells": [
    {
      "cell_type": "markdown",
      "metadata": {
        "id": "view-in-github",
        "colab_type": "text"
      },
      "source": [
        "<a href=\"https://colab.research.google.com/github/malbouis/Python_intro/blob/master/aulas_2025-2/Projetos/Projeto1_Python_2025_2.ipynb\" target=\"_parent\"><img src=\"https://colab.research.google.com/assets/colab-badge.svg\" alt=\"Open In Colab\"/></a>"
      ]
    },
    {
      "cell_type": "markdown",
      "metadata": {
        "id": "AGgXjDdvW6Ip"
      },
      "source": [
        "## **Primeiro Projeto de Python**\n",
        "\n",
        "Nesse primeiro projeto da disciplina de Python, vocês deverão criar um programa para calcular $\\pi$ de duas maneiras diferentes:\n",
        "* Com o método clássico de Arquimedes, simplificado\n",
        "* Com o método de Monte Carlo\n",
        "\n",
        "O programa deve conter a possibilidade de:\n",
        "* Módulo, a ser importado como biblioteca por outros scripts de python\n",
        "* Ser escrito com generalização e encapsulamento\n",
        "* Poder ser compartilhado e alguns métodos usados por outros colegas\n",
        "\n",
        "O que será avaliado:\n",
        "* Implementação de módulo\n",
        "* Utilização de sintaxes e objetos básicos de python, como:\n",
        "   * Listas, funções, etc\n",
        "   * Encapsulamento, generalização, docstring e funcionalidade de módulos\n",
        "   * Condicionais, \"list comprehension\", etc\n",
        "   * Uso adequado de bibliotecas de Python\n",
        "* Boas práticas de programação em python em geral\n",
        "\n",
        "### **O cálculo de $\\pi$**"
      ]
    },
    {
      "cell_type": "markdown",
      "metadata": {
        "id": "OUeYdrzdkrIG"
      },
      "source": [
        "Vocês deverão usar os conhecimentos de Python adquiridos nas aulas anteriores para estimar o valor de $\\pi$ através de dois métodos distintos:\n",
        "* Método Clássico, simplificado\n",
        "* Método de Monte Carlo\n",
        "\n",
        "## Calculando $\\pi$ com o método (simplificado) de Arquimedes\n",
        "\n",
        "O método de Arquimedes para determinação de $\\pi$ consistiu em considerar um hexágono inscrito e outro circunscrito em um círculo.\n",
        "* O perímetro do hexágono inscrito fornece uma aproximação inferior da estimativa;\n",
        "* O perímetro do hexágono circunscrito fornece uma estimativa superior;\n",
        "* Ao dobrar o número de lados do hexágono e obtendo a estimativa do perímetro dos polígonos de 12 lados inscritos e circunscritos, Arquimedes melhorou a estimativa de $\\pi$;\n",
        "* O fez assim, sucessivamente considerando um polígono de 12, 24, 48 e 96 lados;\n",
        "* Conclui que $\\pi$ seria um valor entre $\\frac{223}{71}$ e $\\frac{22}{7}$, ou seja, de acordo com Arquimedes, $\\pi$ é um valor entre 3,1429 to 3,1408.\n",
        "\n",
        "Vamos adotar um método simplificado para o cálculo de $\\pi$ onde só consideramos o hexágono inscrito.\n",
        "\n",
        "1. Considerando um hexágono inscrito em um círculo de raio R = 1\n",
        "1. Considerando que o hexágono é composto de 6 triângulos equiláteros\n",
        "1. Considerando que 2$\\pi$ R = 6*L, onde L é o lado do hexágono que é igual ao raio do círculo, L = R = 1 $\\Rightarrow$ $$\\pi = \\frac{Circunferencia}{Diametro} = \\frac{6}{2} = 3$$ $\\Rightarrow$ aproximação de primeira ordem de $\\pi$\n",
        "1. Para melhorar a aproximação, podemos aumentar cada vez mais o número de lados do polígono inscrito, dobrando o número de lados por vez.\n",
        "1. Tudo que devemos fazer é encontrar a expressão para o lado dos outros polígonos inscritos no círculo (12, 24, 48,... lados), utilizando o hexágono e trigonometria.\n",
        "\n",
        "![](https://raw.githubusercontent.com/malbouis/Python_intro/master/hexagono_inscrito.png)\n",
        "\n",
        "Considerando do hexágono inscrito no círculo, podemos deduzir o tamanho do lado de um polígono de 12 lados e fazer o mesmo para os outros polígonos, iterativamente.\n",
        "\n",
        "\n",
        "\n",
        "$$ a = \\sqrt{1 - \\left(\\frac{S_1}{2}\\right)^2} \\;\\;\\;\\;\\;\\;\\;\\;\\;\\;\\;\\; (1)$$\n",
        "$$ b = 1 - a \\;\\;\\;\\;\\;\\;\\;\\;\\;\\;\\;\\;\\;\\;\\;\\;\\;\\;\\;\\;\\;\\;\\;\\; (2)$$\n",
        "$$ S_{2} = \\sqrt{b^2 + \\left(\\frac{S_1}{2}\\right)^2} \\;\\;\\;\\;\\;\\;\\;\\;\\; (3)$$\n",
        "$$ \\pi = \\frac{C}{D} = \\frac{N_{lados}*S_1}{2R} \\;\\;\\;\\;\\;\\;\\;\\;\\;\\;\\;\\;\\; (4)$$\n",
        "\n",
        "onde:\n",
        "* C é a circunferência;\n",
        "* D é o diâmetro.\n",
        "\n"
      ]
    },
    {
      "cell_type": "markdown",
      "metadata": {
        "id": "RWetm0IArHiP"
      },
      "source": [
        "1. Crie uma função que determine $\\pi$ pelo método de arquimedes, para um polígono de N lados;\n",
        "\n",
        "1. Use a função para determinar como evolui a estimativa de pi com o método de Arquimedes, em função do número de lados do polígono.\n",
        "\n",
        "1. Pense em generalização, encapsulamento\n",
        "1. Documente as funções criadas"
      ]
    },
    {
      "cell_type": "markdown",
      "metadata": {
        "id": "tTQ49YJ8SmzY"
      },
      "source": [
        "## Calculando $\\pi$ com o Método de Monte Carlo\n",
        "\n",
        "Métodos de Monte Carlo são métodos estatísticos baseados em amostragem aleatória que são usados para fazer estimativas aproximadas. É possível obter uma estimativa de $\\pi$ baseada no uso de números aleatórios.\n",
        "\n",
        "<center>\n",
        "<img src=https://raw.githubusercontent.com/malbouis/Python_intro/master/circulo_inscrito.png width=\"200\">\n",
        "</center>\n",
        "\n",
        "* Consideremos um círculo inscrito em um quadrado.\n",
        "* A área do círculo, $A_C$, é dada por: $\\pi r^2$, onde $r$ é o raio do círculo\n",
        "* A área do quadrado, $A_Q$, é dada por: $(2*r)^2$\n",
        "* Ao tomarmos a razão entre as áreas, temos que:\n",
        "$$\\frac{A_C}{A_Q} = \\frac{\\pi r^2}{(2*r)^2} = \\frac{\\pi}{4}$$\n",
        "\n",
        "Também podemos estimar o valor da razão da área do círculo sobre o quadrado, $\\frac{A_C}{A_Q}$, \"jogando\" um grande número de \"bolinhas\" no quadradro com o círculo inscrito e contando o número de vezes que as bolinhas caem dentro do círculo. Esse método também é conhecido como método de Buffon.\n",
        "\n",
        "**Vocês podem \"criar\" as bolinhas com um gerador de números aleatórios e fazer a contagem de quantas bolas caem dentro da área do círculo.**"
      ]
    },
    {
      "cell_type": "markdown",
      "metadata": {
        "id": "Gnk1MwKGfHaC"
      },
      "source": [
        "**Façam uma representação gráfica das bolinhas que caíram dentro do círculo e das que caíram fora.**\n",
        "\n",
        "Qual a sua estimativa de $\\pi$ pelo método de Buffon?"
      ]
    },
    {
      "cell_type": "markdown",
      "metadata": {
        "id": "RcA_T2FWyS5M"
      },
      "source": [
        "Faça também um gráfico com a distribuição das diferentes estimativas de $\\pi$ para um certo número de bolinhas que jogamos.\n",
        "\n",
        "Encontre uma biblioteca de Python que faça ajustes e faça um ajuste de uma distribuição Gaussiana no gráfico obtido acima e determine a estimativa de $\\pi \\pm \\sigma$ baseado na média $\\mu$ e largura $\\sigma$ do ajuste.\n",
        "\n",
        "Importe os módulos de estimativa de $\\pi$ feitos por outros colegas e compare com o seu resultado."
      ]
    }
  ]
}