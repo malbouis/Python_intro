{
  "nbformat": 4,
  "nbformat_minor": 0,
  "metadata": {
    "kernelspec": {
      "display_name": "Python 3",
      "language": "python",
      "name": "python3"
    },
    "language_info": {
      "codemirror_mode": {
        "name": "ipython",
        "version": 3
      },
      "file_extension": ".py",
      "mimetype": "text/x-python",
      "name": "python",
      "nbconvert_exporter": "python",
      "pygments_lexer": "ipython3",
      "version": "3.6.4"
    },
    "colab": {
      "name": "aula8-listas.ipynb",
      "provenance": [],
      "include_colab_link": true
    }
  },
  "cells": [
    {
      "cell_type": "markdown",
      "metadata": {
        "id": "view-in-github",
        "colab_type": "text"
      },
      "source": [
        "<a href=\"https://colab.research.google.com/github/malbouis/Python_intro/blob/master/aulas_2025-2/aula8_listas.ipynb\" target=\"_parent\"><img src=\"https://colab.research.google.com/assets/colab-badge.svg\" alt=\"Open In Colab\"/></a>"
      ]
    },
    {
      "cell_type": "markdown",
      "metadata": {
        "id": "NiQ_H4VUJ33w"
      },
      "source": [
        "# Strings\n",
        "\n",
        "Strings não são como números inteiros ```int```, de ponto flutuante ```float``` ou booleanos ```bool```. Uma string é uma sequência, ou seja, uma coleção ordenada de outros valores, ou seja um **tipo de variável composta** (como também são listas e  tuplas que veremos depois). Vamos ver como acessar os caracteres que compõem uma string e aprender alguns métodos que as strings oferecem.\n",
        "\n",
        " - Aula baseada no livro: http://openbookproject.net/thinkcs/python/english3e/index.html\n",
        "\n",
        "Uma `string` é uma sequência de caracteres. Como já vimos, é possível acessar  um caractere de cada vez com o operador de colchete.  \n",
        "- O índice é uma referência do começo da string, e a referência do primeiro caractere é `0`\n",
        "- Índices negativos contam de trás para a frente a partir do fim da string.\n",
        "- Uma `string` é imutável."
      ]
    },
    {
      "cell_type": "code",
      "metadata": {
        "id": "fe5Nck5sLPG3"
      },
      "source": [
        "fruta = 'banana'\n",
        "letra = fruta[1]\n",
        "letra"
      ],
      "execution_count": null,
      "outputs": []
    },
    {
      "cell_type": "markdown",
      "metadata": {
        "id": "BEbouUfULb0-"
      },
      "source": [
        "É possível utilizar algumas funções integradas ao python com as `strings`, por exemplo, `len`."
      ]
    },
    {
      "cell_type": "code",
      "metadata": {
        "id": "7p0jJNe3MkBC"
      },
      "source": [
        "len(fruta)\n"
      ],
      "execution_count": null,
      "outputs": []
    },
    {
      "cell_type": "code",
      "metadata": {
        "id": "mhQQNAYXM9Y5"
      },
      "source": [
        "tamanho = len(fruta)\n",
        "ultimaLetra = fruta[tamanho-1]\n",
        "print(ultimaLetra)"
      ],
      "execution_count": null,
      "outputs": []
    },
    {
      "cell_type": "code",
      "metadata": {
        "id": "2l6h4nSHaOfO"
      },
      "source": [
        "ultima_alt = fruta[-1]\n",
        "print(ultima_alt)"
      ],
      "execution_count": null,
      "outputs": []
    },
    {
      "cell_type": "markdown",
      "metadata": {
        "id": "BaoP_gw8NSNW"
      },
      "source": [
        "## Exercícios:\n",
        "   1. Percorra toda a `string` \"banana\", utilizando as iterações\n",
        "apresentadas nas aulas anteriores, e imprima na tela uma letra por linha como se fosse em uma escada.\n",
        "   1. Escreva uma função que receba uma `string` como argumento e exiba as letras de trás para a frente, uma por linha.\n"
      ]
    },
    {
      "cell_type": "markdown",
      "metadata": {
        "id": "Ijj6avSgSu2U"
      },
      "source": [
        "## Métodos e operadores de `strings`\n",
        "Os métodos são funções próprias dos tipos de variável (ou objetos), vale a pena pesquisar sobre os métodos e operadores que podem ser utilizados com as `strings`, por exemplo:\n",
        " - métodos: `upper`, `find`, `split`\n",
        " - operadores: `in` e a sua negação `not in`"
      ]
    },
    {
      "cell_type": "markdown",
      "metadata": {
        "id": "7iG9bnzMb1Ve"
      },
      "source": [
        "O método `upper` de uma `string` devolve uma nova `string` com todas as letras maiúsculas, sem modificar a instancia original.\n"
      ]
    },
    {
      "cell_type": "code",
      "metadata": {
        "id": "D4rur9A-UWQ0"
      },
      "source": [
        "nova_fruta = fruta.upper()\n",
        "print(fruta,nova_fruta)"
      ],
      "execution_count": null,
      "outputs": []
    },
    {
      "cell_type": "markdown",
      "metadata": {
        "id": "g5Rgnx3ScCo_"
      },
      "source": [
        "O método `find` encontra a posição de um caractere específico na `string` (por default, a primeira ocorrência deste). Usando um argumento opcional é possível achar os índices das ocorrências subsequentes.\n",
        "\n"
      ]
    },
    {
      "cell_type": "code",
      "metadata": {
        "id": "2CRHCX3FUjLC"
      },
      "source": [
        "indice = fruta.index(\"a\")\n",
        "indice"
      ],
      "execution_count": null,
      "outputs": []
    },
    {
      "cell_type": "code",
      "metadata": {
        "id": "6BH0WLHkU04e"
      },
      "source": [
        "indice = fruta.index(\"a\",2)\n",
        "indice"
      ],
      "execution_count": null,
      "outputs": []
    },
    {
      "cell_type": "markdown",
      "metadata": {
        "id": "f41zQFaFcToa"
      },
      "source": [
        "`in` é um operador binário booleano que recebe duas `strings` e retorna verdadeiro (`True`) se a primeira aparecer como uma `substring` da segunda\n"
      ]
    },
    {
      "cell_type": "code",
      "metadata": {
        "id": "E8qhTLPVVost"
      },
      "source": [
        "'a' in 'banana'"
      ],
      "execution_count": null,
      "outputs": []
    },
    {
      "cell_type": "code",
      "metadata": {
        "id": "HeG5NZU2VxeT"
      },
      "source": [
        "'nn' in 'banana'\n"
      ],
      "execution_count": null,
      "outputs": []
    },
    {
      "cell_type": "code",
      "metadata": {
        "id": "bXiMcc9mWc8t"
      },
      "source": [
        "'ana' in 'banana'"
      ],
      "execution_count": null,
      "outputs": []
    },
    {
      "cell_type": "markdown",
      "metadata": {
        "id": "EIz-9Yuqcj2r"
      },
      "source": [
        "Aplicando o que já aprenderam sobre funções, podemos implementar\n",
        "a função a seguir, que imprime todas as letras (ou caracteres) de `palavra1` que também aparecem em `palavra2`:"
      ]
    },
    {
      "cell_type": "code",
      "metadata": {
        "id": "sPrGliL3V3W6"
      },
      "source": [
        "\n",
        "def in_both(palavra1, palavra2):\n",
        "    for letra in palavra1:\n",
        "        if letra in palavra2:\n",
        "            print(letra)\n",
        "\n",
        "in_both(\"aulas\", \"remotas\")"
      ],
      "execution_count": null,
      "outputs": []
    },
    {
      "cell_type": "markdown",
      "metadata": {
        "id": "AtxgfQT9KY8y"
      },
      "source": [
        "# Listas\n",
        "\n",
        "Uma lista (`list`) é uma coleção ordenada de valores. Os valores que compõem uma lista são chamados de seus **elementos** ou seus **itens** . Nós usaremos o termo elemento ou item para significar a mesma coisa. ***A lista mantém a ordem de seus elementos***, portanto podem ser identificadas como **sequências**, como também são sequências as `strings` (cadeias de carateres) e as tuplas (`tuple`).\n",
        "\n",
        "\n",
        "## Valores de lista\n",
        "Existem várias maneiras de criar uma nova lista; o mais simples é incluir os elementos entre colchetes:\n"
      ]
    },
    {
      "cell_type": "code",
      "metadata": {
        "id": "sgtadaMKJ33y"
      },
      "source": [
        "ps  =  [ 10 ,  20 ,  30 ,  40 ]\n",
        "qs  =  [ \"spam\" ,  \"bungee\" ,  \"cantar\" ]\n",
        "print(ps, type(ps))\n",
        "print(qs, type(qs))"
      ],
      "execution_count": null,
      "outputs": []
    },
    {
      "cell_type": "markdown",
      "metadata": {
        "id": "EjIqwfYwJ34A"
      },
      "source": [
        "O primeiro exemplo é uma lista de quatro números inteiros. O segundo é uma lista de três `strings`. Os elementos de uma lista não precisam ser do mesmo tipo. A lista a seguir contém uma `string`, um `float`, um inteiro e (incrivelmente) outra lista:"
      ]
    },
    {
      "cell_type": "code",
      "metadata": {
        "id": "g17yeeHiJ34D"
      },
      "source": [
        "zs  =  [ \"olá\" ,  2.0 ,  5 ,  [ 10 ,  20 ]]"
      ],
      "execution_count": null,
      "outputs": []
    },
    {
      "cell_type": "markdown",
      "metadata": {
        "id": "rHOG3ji-J34K"
      },
      "source": [
        "- Uma lista dentro de outra lista é dita ***aninhada*** .\n",
        "- Finalmente, uma lista sem elementos é chamada de lista vazia e é denotada \\[ \\] .\n",
        "- Já vimos que podemos atribuir valores de lista a variáveis ou passar ***listas como parâmetros*** para funções."
      ]
    },
    {
      "cell_type": "code",
      "metadata": {
        "id": "nR-63WGFJ34M"
      },
      "source": [
        "palavras  =  [ \"maça\" ,  \"queijo\" ,  \"cachorro\" ]\n",
        "numeros  =  [ 17 ,  123 ]\n",
        "lista_vazia  =  []\n",
        "print ( palavras ,  numeros ,  lista_vazia )"
      ],
      "execution_count": null,
      "outputs": []
    },
    {
      "cell_type": "markdown",
      "metadata": {
        "id": "CEWkC2n7J34R"
      },
      "source": [
        "## Acessando elementos\n",
        "A sintaxe para acessar os elementos de uma lista é o operador índice (colchetes): `[ ]` (não confundir com uma lista vazia). A expressão dentro dos colchetes especifica o índice. Lembre-se que os índices no Python começam em 0:"
      ]
    },
    {
      "cell_type": "code",
      "metadata": {
        "id": "WMzE-8IIJ34T"
      },
      "source": [
        "numeros[0]"
      ],
      "execution_count": null,
      "outputs": []
    },
    {
      "cell_type": "code",
      "metadata": {
        "id": "feodhl5uJ34Z"
      },
      "source": [
        "palavras[1]"
      ],
      "execution_count": null,
      "outputs": []
    },
    {
      "cell_type": "markdown",
      "metadata": {
        "id": "JzRGayFKJ34s"
      },
      "source": [
        "Qualquer expressão que avalie para um inteiro pode ser usada como um índice:"
      ]
    },
    {
      "cell_type": "code",
      "metadata": {
        "id": "8z3Y5YJ1J34t"
      },
      "source": [
        "numeros[ 9 - 8 ]"
      ],
      "execution_count": null,
      "outputs": []
    },
    {
      "cell_type": "code",
      "metadata": {
        "id": "JsKKbKEcJ34z"
      },
      "source": [
        "numeros[ 1.0 ]"
      ],
      "execution_count": null,
      "outputs": []
    },
    {
      "cell_type": "markdown",
      "metadata": {
        "id": "tDAZ2i0ZJ342"
      },
      "source": [
        "Ao tentar acessar o elemento `1.0` temos um erro pois os índices devem ser números de tipo inteiro, não de ponto flutuante. Se tentássemos acessar ou atribuir um elemento que não existe também teremos um erro de execução:"
      ]
    },
    {
      "cell_type": "code",
      "metadata": {
        "id": "16G3GtIcJ343"
      },
      "source": [
        "numeros[2]"
      ],
      "execution_count": null,
      "outputs": []
    },
    {
      "cell_type": "markdown",
      "metadata": {
        "id": "Ec1RflQiJ348"
      },
      "source": [
        "É comum usar uma variável de loop como um índice de lista.\n"
      ]
    },
    {
      "cell_type": "code",
      "metadata": {
        "id": "tcQgc-SrJ349"
      },
      "source": [
        "horta  =  [ \"manjericao\" ,  \"hortela\" ,  \"cebolinha\" ,  \"salsa\" ]\n",
        "\n",
        "for  i  in  [ 0 ,  1 ,  2 ,  3 ]:\n",
        "    print ( horta [ i ])"
      ],
      "execution_count": null,
      "outputs": []
    },
    {
      "cell_type": "markdown",
      "metadata": {
        "id": "SiDiCnxrJ35D"
      },
      "source": [
        "Mas o exemplo acima **não precisa** usar o índice `i` para coisa nenhuma além de obter os itens da lista, então esta versão onde o própio loop `for` obtem os elementos de (percorre) a lista é mais direta :"
      ]
    },
    {
      "cell_type": "code",
      "metadata": {
        "id": "3CVWgAiYJ35D"
      },
      "source": [
        "for i in horta  :\n",
        "    print ( i )"
      ],
      "execution_count": null,
      "outputs": []
    },
    {
      "cell_type": "markdown",
      "metadata": {
        "id": "gCNirG2ZJ35J"
      },
      "source": [
        "## Comprimento de uma lista\n",
        "A utilização dos índices pode ser útil se o objetivo for **atualizar** o valor do elemento. Nesse caso também é possível usar a função `len` sobre a lista para conhecer seu comprimento. P. ex.:"
      ]
    },
    {
      "cell_type": "code",
      "metadata": {
        "id": "WY6xVqSiJ35K"
      },
      "source": [
        "n = len(horta)\n",
        "for i in range(n):\n",
        "    horta[i] = horta[i].upper()\n",
        "    print(horta[i])\n"
      ],
      "execution_count": null,
      "outputs": []
    },
    {
      "cell_type": "markdown",
      "metadata": {
        "id": "qVHfGdUZJ35P"
      },
      "source": [
        "_(A função `upper` é um ***método*** das strings que muda as letras minúsculas a maiúsculas)_\n",
        "\n",
        "O último valor do índice `i` do loop acima é `n-1`.  "
      ]
    },
    {
      "cell_type": "markdown",
      "metadata": {
        "id": "8sU6VM7je0oK"
      },
      "source": [
        "Uma lista pode conter outra lista como elemento, porém esta lista **aninhada** conta como um só valor."
      ]
    },
    {
      "cell_type": "code",
      "metadata": {
        "id": "aE6TBIFKJ35Q"
      },
      "source": [
        "listaCarros = [\"marcas de carro\", 1, [\"Ford\", \"Toyota\", \"BMW\"], [1, 2, 3]]\n",
        "len(listaCarros)"
      ],
      "execution_count": null,
      "outputs": []
    },
    {
      "cell_type": "code",
      "metadata": {
        "id": "gmbiltZqJ35U"
      },
      "source": [
        "print(listaCarros[2],len(listaCarros[2]))"
      ],
      "execution_count": null,
      "outputs": []
    },
    {
      "cell_type": "code",
      "metadata": {
        "id": "GGhXb41Ce5rQ"
      },
      "source": [
        "print(listaCarros[3],len(listaCarros[3]))"
      ],
      "execution_count": null,
      "outputs": []
    },
    {
      "cell_type": "markdown",
      "metadata": {
        "id": "Yfp6Hh42J35Y"
      },
      "source": [
        "## As listas são _mutáveis_\n",
        "\n",
        "Como foi visto acima, os valores dos elementos de uma lista podem ser mudados, e/ou mais elementos adicionados. Isto quer dizer que as listas são _mutáveis_. É o que as distingue das tuplas.  Examinemos os exemplos:"
      ]
    },
    {
      "cell_type": "code",
      "metadata": {
        "id": "OJEtcmC2J35Z"
      },
      "source": [
        "mylist = [1,2,3,\"maria\"]\n",
        "print(mylist[3].capitalize())\n",
        "print(mylist[3])"
      ],
      "execution_count": null,
      "outputs": []
    },
    {
      "cell_type": "markdown",
      "metadata": {
        "id": "xJVE2Vx1J35c"
      },
      "source": [
        "Aqui ao chamar a função `capitalize()` (outro  método dos strings) esta retorna o string com a primeira letra em maiúscula, mas o quarto elemento da lista (que tem índice 3) não muda.  Porém podemos __atualizar__ o valor desse elemento, ou de outros (como o terceiro, de índice 2)."
      ]
    },
    {
      "cell_type": "code",
      "metadata": {
        "id": "gEk5VrlkJ35c"
      },
      "source": [
        "mylist[3]=mylist[3].capitalize()\n",
        "print(mylist)\n",
        "mylist[2]=\"trois\"\n",
        "print(mylist)"
      ],
      "execution_count": null,
      "outputs": []
    },
    {
      "cell_type": "markdown",
      "metadata": {
        "id": "iJ4DZl8dJ35g"
      },
      "source": [
        "## _Fatias_ de listas\n",
        "\n",
        "Podemos aplicar operações de fatia (_slices_) para seleçionar sublistas"
      ]
    },
    {
      "cell_type": "code",
      "metadata": {
        "id": "0pADNmv9J35g"
      },
      "source": [
        "print(mylist)\n",
        "mylist[1:3]"
      ],
      "execution_count": null,
      "outputs": []
    },
    {
      "cell_type": "markdown",
      "metadata": {
        "id": "p2f8NdzNJ35k"
      },
      "source": [
        "O operador seleciona a sublista incluindo o primeiro índice e excluindo o último (no caso acima, os índices 1 e 2). Ao deixar um lado do operador em branco, selecionamos até o fim (ou desde o começo) da lista:"
      ]
    },
    {
      "cell_type": "code",
      "metadata": {
        "id": "IWdOdlghJ35l"
      },
      "source": [
        "mylist[2:]"
      ],
      "execution_count": null,
      "outputs": []
    },
    {
      "cell_type": "code",
      "metadata": {
        "id": "eiH-0SqdJ35p"
      },
      "source": [
        "mylist[:2]"
      ],
      "execution_count": null,
      "outputs": []
    },
    {
      "cell_type": "markdown",
      "metadata": {
        "id": "id5P0OxEJ35t"
      },
      "source": [
        "Com o operador de fatia, podemos atualizar toda uma sub-lista de uma só vez:"
      ]
    },
    {
      "cell_type": "code",
      "metadata": {
        "id": "GnyEmR05J35u"
      },
      "source": [
        "a_list = [ \"a\" , \"b\" , \"c\" , \"d\" , \"e\" , \"f\" ]\n",
        "a_list [ 1 : 3 ] = [ \"x\" , \"y\" ]\n",
        "a_list"
      ],
      "execution_count": null,
      "outputs": []
    },
    {
      "cell_type": "markdown",
      "metadata": {
        "id": "ZqR73_vYJ35x"
      },
      "source": [
        "Também podemos remover elementos de uma lista atribuindo uma lista vazia a eles:"
      ]
    },
    {
      "cell_type": "code",
      "metadata": {
        "id": "Gf_v4uk-J35y"
      },
      "source": [
        "a_list[1:3]=[]\n",
        "a_list"
      ],
      "execution_count": null,
      "outputs": []
    },
    {
      "cell_type": "markdown",
      "metadata": {
        "id": "UUnEgeELJ351"
      },
      "source": [
        "Porém tem uma alternativa mais legível e menos propensa a erros, utilizando o comando `del`:"
      ]
    },
    {
      "cell_type": "code",
      "metadata": {
        "id": "kWu_Pa5uJ351"
      },
      "source": [
        "a = [\"um\", \"dois\", \"três\"]\n",
        "del a[1]\n",
        "a"
      ],
      "execution_count": null,
      "outputs": []
    },
    {
      "cell_type": "markdown",
      "metadata": {
        "id": "fvbNIfdNJ359"
      },
      "source": [
        "Este comando também pode ser utlizado com fatias:"
      ]
    },
    {
      "cell_type": "code",
      "metadata": {
        "id": "cgqdE6wVJ35-"
      },
      "source": [
        "b=[\"un\",\"deux\",\"trois\",\"quatre\",\"cinq\"]\n",
        "del b[2:4]\n",
        "b"
      ],
      "execution_count": null,
      "outputs": []
    },
    {
      "cell_type": "markdown",
      "metadata": {
        "id": "rPleF8RsJ36C"
      },
      "source": [
        "Podemos fatiar em passos:"
      ]
    },
    {
      "cell_type": "code",
      "metadata": {
        "id": "Xstl1kWMJ36D"
      },
      "source": [
        "print(a_list)\n",
        "a_list[1:4:2]      # pegar uma fatia de índices 1 a 4 com passo de 2 elementos."
      ],
      "execution_count": null,
      "outputs": []
    },
    {
      "cell_type": "markdown",
      "metadata": {
        "id": "mF3TGXnpJ36I"
      },
      "source": [
        "Em resumo:"
      ]
    },
    {
      "cell_type": "code",
      "metadata": {
        "id": "Gzsm_dThJ36J"
      },
      "source": [
        "start=2\n",
        "stop=3\n",
        "print(a_list[start:stop])  # items start through stop-1\n",
        "print(a_list[start:])     # items start through the rest of the array\n",
        "print(a_list[:stop])       # items from the beginning through stop-1\n",
        "print(a_list[:])          # a copy of the whole array\n",
        "print(a_list[-1])   # last item in the array\n",
        "print(a_list[-2:])  # last two items in the array\n",
        "print(a_list[:-2])   # everything except the last two items"
      ],
      "execution_count": null,
      "outputs": []
    },
    {
      "cell_type": "markdown",
      "metadata": {
        "id": "JSCZGPTgJ36M"
      },
      "source": [
        "De modo similar, o \"passo\" pode ser um número negativo:\n"
      ]
    },
    {
      "cell_type": "code",
      "metadata": {
        "id": "0UOABZDSJ36M"
      },
      "source": [
        "print(a_list[::-1])    # all items in the array, reversed\n",
        "print(a_list[1::-1])   # the first two items, reversed\n",
        "print(a_list[:-3:-1])  # the last two items, reversed\n",
        "print(a_list[-3::-1])  # everything except the last two items, reversed"
      ],
      "execution_count": null,
      "outputs": []
    },
    {
      "cell_type": "markdown",
      "metadata": {
        "id": "yo3q2X7rJ36Q"
      },
      "source": [
        "Método `slice()`:"
      ]
    },
    {
      "cell_type": "code",
      "metadata": {
        "id": "jipg_R5SJ36R"
      },
      "source": [
        "print(a_list[1:4:2])\n",
        "print(a_list[slice(1, 4, 2)])"
      ],
      "execution_count": null,
      "outputs": []
    },
    {
      "cell_type": "markdown",
      "metadata": {
        "id": "Ftpl-Fy9bOm3"
      },
      "source": [
        "Obs.: O fatiamento também funciona com `strings`."
      ]
    },
    {
      "cell_type": "markdown",
      "metadata": {
        "id": "CKBfUaLoJ36U"
      },
      "source": [
        "## Métodos de lista\n",
        "\n",
        "O operador de ponto pode ser usado para acessar métodos internos de objetos de tipo `list`. Um método muito útil para adicionar algo ao final de uma lista existente é o `append`:"
      ]
    },
    {
      "cell_type": "code",
      "metadata": {
        "id": "mSEk8r7CJ36V"
      },
      "source": [
        "milista=[]\n",
        "\n",
        "milista.append(10)\n",
        "milista.append(25)\n",
        "milista.append(5)\n",
        "milista.append(35)\n",
        "milista.append(30)\n",
        "\n",
        "milista"
      ],
      "execution_count": null,
      "outputs": []
    },
    {
      "cell_type": "markdown",
      "metadata": {
        "id": "BJpFrBQuJ36Y"
      },
      "source": [
        "Este método de lista adiciona o argumento passado para o __final__ da lista. Nós vamos usá-lo frequentemente para  criar novas listas.\n",
        "\n",
        "Outro método bastante utilizado é `extend`, ele toma uma lista como argumento e adiciona todos os elementos:"
      ]
    },
    {
      "cell_type": "code",
      "metadata": {
        "id": "TyJp1D0lbyLf"
      },
      "source": [
        "lista1 = ['a', 'b', 'c']\n",
        "lista2 = ['d', 'e', 'f']\n",
        "lista1.extend(lista2)\n",
        "lista1"
      ],
      "execution_count": null,
      "outputs": []
    },
    {
      "cell_type": "markdown",
      "metadata": {
        "id": "MlDR-8z1c2vj"
      },
      "source": [
        "Também é possível excluir elementos de uma lista de diferentes formas, dependendo do objetivo da operação."
      ]
    },
    {
      "cell_type": "markdown",
      "metadata": {
        "id": "G3sjd7pBg-9B"
      },
      "source": [
        "Para utilizar o elemento excluído, utilize o método `pop`, que retira o elemento da lista e retorna ele como valor.\n"
      ]
    },
    {
      "cell_type": "code",
      "metadata": {
        "id": "QGi2ggWKc2Et"
      },
      "source": [
        "lista = ['a', 'b', 'c', 'd', 'e', 'f']\n",
        "ele = lista.pop(2)\n",
        "print(lista)\n",
        "print(ele)"
      ],
      "execution_count": null,
      "outputs": []
    },
    {
      "cell_type": "markdown",
      "metadata": {
        "id": "EabBpTfwhLp4"
      },
      "source": [
        "Caso não queira utilizar o elemento excluído, utilize a instrução `del`\n"
      ]
    },
    {
      "cell_type": "code",
      "metadata": {
        "id": "Z_xFNBX1dxET"
      },
      "source": [
        "lista = ['a', 'b', 'c', 'd', 'e', 'f']\n",
        "del lista[2]\n",
        "print(lista)"
      ],
      "execution_count": null,
      "outputs": []
    },
    {
      "cell_type": "markdown",
      "metadata": {
        "id": "Esca6ehlhTLB"
      },
      "source": [
        "Caso saiba o elemento que quer excluir, mas não o seu índice, utilize o método `remove`\n"
      ]
    },
    {
      "cell_type": "code",
      "metadata": {
        "id": "czrloIUCeV2j"
      },
      "source": [
        "lista = ['a', 'b', 'c', 'd', 'e', 'f']\n",
        "lista.remove('d')\n",
        "print(lista)"
      ],
      "execution_count": null,
      "outputs": []
    },
    {
      "cell_type": "markdown",
      "metadata": {
        "id": "QuAg2OjIJ36Y"
      },
      "source": [
        "## Exercícios\n",
        "\n",
        "   1. Resolução numérica de equações diferenciais. Imagine que tem um/a maratonista treinando, que num trecho de $5 \\mathrm{km}$ tem velocidade quase constante de $12 \\mathrm{km/h}$. Produza uma lista com a  distância percorrida em intervalos de 1 minuto.\n",
        "\n",
        "   1. O/A mesmo/a atleta no seguinte trecho acelera nos seguintes $200$ metros até chegar numa velocidade de $15 \\mathrm{km/h}$, e mantém esta velocidade por $1,8 \\mathrm{km}$. Queremos obter uma tabela ou gráfico da distância percorrida en função do tempo, e calcular e o tempo total para chegar em $7 \\mathrm{km}$, faça isto utilizando listas.\n",
        "\n",
        "   1. Considere um péndulo simples num plano. O comprimento da linha é $1$ metro, a massa é $0,2 \\mathrm{kg}$ e a aceleração de gravidade $9,8 \\mathrm{m}/\\mathrm{s}^2$. Faça um gráfico ou crie uma tabela para a posição da massa em coordenadas cartesianas em função do tempo, utilizando listas.\n",
        "\n",
        "   1. (opcional) Pesquise sobre o pacote `numpy` e os objetos desse pacote chamados `array`, tente utilizálos ao invés de listas para resolver os exercícios.\n",
        "\n",
        "Dica: podem usar o pacote `matplotlib.pyplot` para fazer um gráfico:"
      ]
    },
    {
      "cell_type": "code",
      "metadata": {
        "id": "XEkSrUBqJ36Z"
      },
      "source": [
        "import matplotlib.pyplot as plt\n",
        "\n",
        "t=[0,1,2,3,4,5,6,7,8,9,10]\n",
        "x=[0,4.2,8,10,23,30,35,41,44,50,55]\n",
        "\n",
        "plt.plot(t,x)\n",
        "plt.xlabel(\"tempo s\")\n",
        "plt.ylabel(\"distância m\")"
      ],
      "execution_count": null,
      "outputs": []
    }
  ]
}