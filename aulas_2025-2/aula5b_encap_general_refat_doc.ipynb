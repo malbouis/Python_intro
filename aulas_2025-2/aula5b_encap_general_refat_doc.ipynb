{
  "nbformat": 4,
  "nbformat_minor": 0,
  "metadata": {
    "colab": {
      "name": "aula5b_encap_general_refat_doc.ipynb",
      "provenance": [],
      "include_colab_link": true
    },
    "kernelspec": {
      "name": "python3",
      "display_name": "Python 3"
    },
    "language_info": {
      "name": "python"
    }
  },
  "cells": [
    {
      "cell_type": "markdown",
      "metadata": {
        "id": "view-in-github",
        "colab_type": "text"
      },
      "source": [
        "<a href=\"https://colab.research.google.com/github/malbouis/Python_intro/blob/master/aulas_2025-2/aula5b_encap_general_refat_doc.ipynb\" target=\"_parent\"><img src=\"https://colab.research.google.com/assets/colab-badge.svg\" alt=\"Open In Colab\"/></a>"
      ]
    },
    {
      "cell_type": "markdown",
      "metadata": {
        "id": "fb7KTASPGerC"
      },
      "source": [
        "# Encapsulamento, Generalização, Refatoração e Documentação\n",
        "\n",
        "Na aula passada, aprendemos:\n",
        "* sobre a classe ```turtle``` e seus métodos;\n",
        "* sobre o loop for\n",
        "\n",
        "Nessa aula, veremos os conceitos de:\n",
        "* Encapsulamento;\n",
        "* Generalização;\n",
        "* Refatoração;\n",
        "\n",
        "E também como podemos inserir documentação em nossos códigos."
      ]
    },
    {
      "cell_type": "markdown",
      "metadata": {
        "id": "U2ZwwCUHKyYk"
      },
      "source": [
        "\n",
        "## Encapsulamento\n",
        "O primeiro exercício pede que você coloque seu código de desenho de um quadrado em uma definição de função, p.ex.  ```square (t)```,  e então chame a função, passando a tartaruga como um parâmetro.  Uma possível solução :\n"
      ]
    },
    {
      "cell_type": "code",
      "metadata": {
        "id": "ylGo4t_mKyYk"
      },
      "source": [
        "def square(t):\n",
        "  for i in range(4):\n",
        "        t.forward(100)\n",
        "        t.left(90)"
      ],
      "execution_count": null,
      "outputs": []
    },
    {
      "cell_type": "markdown",
      "metadata": {
        "id": "G00txOeoKyYo"
      },
      "source": [
        "Se chamarmos ```square(joana)``` as instruções internas da função são executadas pela tartaruga joana, mas também poderiam ser executadas por qualquer objeto tartaruga, a idéia de escrever a função é justamente que ```t``` pode ser qualquer tartaruga.  Então podemos criar uma segunda tartaruga e passá-la como argumento para a função ```square```  **os blocos desse notebook devem ser executados no [trinket](https://trinket.io/turtle) ou em instalação local de Python com ```tkinter```**:"
      ]
    },
    {
      "cell_type": "code",
      "metadata": {
        "id": "-iJw6WNIKyYq"
      },
      "source": [
        "import turtle\n",
        "alice = turtle.Turtle()\n",
        "square (alice)"
      ],
      "execution_count": null,
      "outputs": []
    },
    {
      "cell_type": "markdown",
      "metadata": {
        "id": "r3oUUZLkKyY0"
      },
      "source": [
        "Envolver um pedaço de código em uma função é chamado de __encapsulamento__. Um dos benefícios do encapsulamento é que ele anexa um nome ao código, que serve como um tipo de documentação. Outra vantagem é que, se você reutilizar o código, é mais conciso chamar uma função duas vezes do que copiar e colar o corpo!"
      ]
    },
    {
      "cell_type": "markdown",
      "metadata": {
        "id": "BlElmskDKyY1"
      },
      "source": [
        "## Generalização\n",
        "O próximo passo é adicionar um parâmetro de comprimento à função ```square```. Uma possibilidade:"
      ]
    },
    {
      "cell_type": "code",
      "metadata": {
        "id": "YeFQAfaEKyY2"
      },
      "source": [
        "def square(t,length):\n",
        "    for i in range(4):\n",
        "        t.forward(length)\n",
        "        t.left(90)\n",
        "\n",
        "alice.reset()\n",
        "square(alice,50)"
      ],
      "execution_count": null,
      "outputs": []
    },
    {
      "cell_type": "markdown",
      "metadata": {
        "id": "8MmLoqUDKyY5"
      },
      "source": [
        "Adicionar um (ou mais) parâmetro(s) a uma função é chamado de __generalização__, pois torna a função mais geral:\n",
        "* na versão anterior, o quadrado é sempre do mesmo tamanho;\n",
        "* nesta versão pode ser de qualquer tamanho.\n",
        "\n",
        "O próximo passo é também uma generalização:\n",
        "* Em vez de desenhar só quadrados, a função ```polygon``` desenha polígonos regulares com qualquer número de lados.\n",
        "\n",
        "Aqui está uma solução:"
      ]
    },
    {
      "cell_type": "code",
      "metadata": {
        "id": "6UUiyQiAKyY6"
      },
      "source": [
        "def polygon(t,length,n):\n",
        "    alfa = 360/n\n",
        "    for i in range(n):\n",
        "        t.forward(length)\n",
        "        t.left(alfa)\n",
        "#desenhar um hexagono regular com lado de comprimento 70\n",
        "alice.reset()\n",
        "polygon(alice, 70, 6)\n",
        "#polygon(alice, 30, 20)\n",
        "#alice.speed(10)\n",
        "#polygon(alice,10,100)"
      ],
      "execution_count": null,
      "outputs": []
    },
    {
      "cell_type": "markdown",
      "metadata": {
        "id": "yOREP_wHKyY8"
      },
      "source": [
        "Quando uma função tem mais do que alguns argumentos numéricos, é fácil esquecer o que eles são, ou em que ordem eles devem estar. Nesse caso, é sempre uma boa idéia incluir os nomes dos parâmetros na lista de argumentos ao chamar a função:\n",
        "```\n",
        "polygon (bob, n = 7, length = 70)\n",
        "```\n",
        "\n",
        "Eles são chamados de argumentos de palavras-chave (___keyword___) porque incluem os nomes de parâmetros como “palavras-chave” (não confundir com palavras-chave do Python como ```while``` e ```def``` ).\n",
        "\n",
        "Essa sintaxe torna o programa mais legível. Também é um lembrete sobre como os argumentos e parâmetros funcionam: **quando você chama uma função, os argumentos são atribuídos aos parâmetros**."
      ]
    },
    {
      "cell_type": "markdown",
      "metadata": {
        "id": "6IDqjSAUKyY-"
      },
      "source": [
        "##  Design de interface\n",
        "O próximo passo é escrever um círculo , que usa um raio ```r``` como parâmetro. Aqui está uma solução simples que usa a função ```polygon``` para desenhar um polígono de 50 lados:"
      ]
    },
    {
      "cell_type": "code",
      "metadata": {
        "id": "IuKzJX9gKyY_"
      },
      "source": [
        "import math\n",
        "def circle(t, r):\n",
        "    circumference = 2 * math.pi * r\n",
        "    n = 50\n",
        "    length = int(circumference / n )        # circumference = n*length\n",
        "    polygon(t, length, n)"
      ],
      "execution_count": null,
      "outputs": []
    },
    {
      "cell_type": "code",
      "metadata": {
        "id": "Lmy-_e8bUPA4"
      },
      "source": [
        "alice.reset()\n",
        "alice.speed(10)\n",
        "circle(alice, 50)"
      ],
      "execution_count": null,
      "outputs": []
    },
    {
      "cell_type": "markdown",
      "metadata": {
        "id": "zyCR32tSKyZC"
      },
      "source": [
        "A primeira linha calcula a circunferência de um círculo com raio ```r``` usando a fórmula 2 $\\pi$ r . Como usamos math.pi , temos que importar matemática. Por convenção, as instruções de importação geralmente estão no início do script.\n",
        "\n",
        "```n``` é o número de segmentos de linha em nossa aproximação de um círculo, então ```length``` é o comprimento de cada segmento. Assim, a função ```polygon``` desenha um polígono de 50 lados que se aproxima de um círculo com raio r.\n",
        "\n",
        "Uma limitação dessa solução é que ```n``` é uma constante, o que significa que, para círculos muito grandes, os segmentos de linha são muito longos e, para círculos pequenos, perdemos tempo desenhando segmentos muito pequenos. Uma solução seria generalizar a função usando ```n``` como parâmetro. Isso daria ao usuário (quem chama a função) mais controle, mas a interface seria menos limpa.\n",
        "\n",
        "A __interface__ de uma função é um ___resumo___ de como ela é usada:\n",
        "* quais são os parâmetros?\n",
        "* O que a função faz?\n",
        "* E qual é o valor de retorno?\n",
        "\n",
        "Uma interface é dita “limpa” se permite que o chamador faça o que quiser sem lidar com detalhes desnecessários.\n",
        "\n",
        "Neste exemplo, ```r``` pertence à interface porque especifica o círculo a ser desenhado, mas ```n``` é menos apropriado porque se refere aos detalhes de como o círculo deve ser renderizado. Em vez de sobrecarregar a interface, é melhor escolher um valor apropriado de ```n``` dependendo da circunferência :"
      ]
    },
    {
      "cell_type": "code",
      "metadata": {
        "id": "IOhHK9TnKyZC"
      },
      "source": [
        "def circle(t, r):\n",
        "    circumference = 2 * math.pi * r\n",
        "    n = int(circumference / 3) + 3  # adicionar 3 garante que tenhamos pelo menos 3 lados.\n",
        "    length = int(circumference / n )\n",
        "    polygon(t, length ,n)\n"
      ],
      "execution_count": null,
      "outputs": []
    },
    {
      "cell_type": "code",
      "metadata": {
        "id": "ELMQ3VOEUcZp"
      },
      "source": [
        "alice.reset()\n",
        "alice.speed(10)\n",
        "circle(alice,40)"
      ],
      "execution_count": null,
      "outputs": []
    },
    {
      "cell_type": "markdown",
      "metadata": {
        "id": "1Ik6K7X0KyZG"
      },
      "source": [
        "## Documentação da função: docstring\n",
        "\n",
        "Uma **docstring** é uma string no início de uma função que explica a interface (“doc” é a abreviação de “documentation”). Aqui está um exemplo:"
      ]
    },
    {
      "cell_type": "code",
      "metadata": {
        "id": "gv36vrIWKyZH"
      },
      "source": [
        "def polyline(t, n, length, angle):\n",
        "    \"\"\"Draws n line segments with the given length and\n",
        "    angle (in degrees) between them.  t is a turtle.\n",
        "    \"\"\"\n",
        "    for i in range(n):\n",
        "        t.forward(int(length))\n",
        "        t.left(angle)"
      ],
      "execution_count": null,
      "outputs": []
    },
    {
      "cell_type": "markdown",
      "metadata": {
        "id": "FxOLbahYKyZJ"
      },
      "source": [
        "Por convenção, todas as docstrings são strings de aspas triplas. Elas aspas triplas permitem que a string abranja mais de uma linha.\n",
        "\n",
        "É conciso, mas contém as informações essenciais que alguém precisaria para usar essa função. Explica de forma concisa o que a função faz (sem entrar nos detalhes de como ela faz isso). Explica o efeito que cada parâmetro tem sobre o comportamento da função e qual o tipo de parâmetro deve ser (se não for óbvio).\n",
        "\n",
        "Escrever esse tipo de documentação é uma parte importante do design da interface. Uma interface bem projetada deve ser simples de explicar;\n",
        "* Se você tiver dificuldade em explicar uma de suas funções, talvez a interface possa ser melhorada.\n",
        "\n",
        "## Refatoração\n",
        "O  processo de reorganizar um programa para melhorar as interfaces e facilitar a reutilização de código é chamado de __refatoração__ (_refactoring_ em inglês).  \n",
        "A função ```polyline``` acima é uma forma de refatorizar, utilizando ela é possível reescrever por exemplo a função do ```polygon``` como:\n"
      ]
    },
    {
      "cell_type": "code",
      "metadata": {
        "id": "1iBukOn6KyZK"
      },
      "source": [
        "def polygon(t, n, length):\n",
        "    angle = 360.0 / n\n",
        "    polyline(t, n, length, angle)\n"
      ],
      "execution_count": null,
      "outputs": []
    },
    {
      "cell_type": "markdown",
      "metadata": {
        "id": "fNCdkIXPKyZM"
      },
      "source": [
        "`Polyline` desenha só uma sequencia uniforme de `n` linhas e  `n` giros para um comprimento e ângulos definidos. Ela também pode ser utilizada para redefinir o arco:"
      ]
    },
    {
      "cell_type": "code",
      "metadata": {
        "id": "1Wkb-o3yKyZM"
      },
      "source": [
        "def arc(t, r, angle):\n",
        "    arc_length = 2 * math.pi * r * angle / 360\n",
        "    n = int(arc_length / 3) + 1\n",
        "    step_length = arc_length / n\n",
        "    step_angle = float(angle) / n\n",
        "    polyline(t, n, step_length, step_angle)"
      ],
      "execution_count": null,
      "outputs": []
    },
    {
      "cell_type": "markdown",
      "metadata": {
        "id": "Gm3NyrCKKyZP"
      },
      "source": [
        "De forma que uma nova versão do círculo seria definida simplesmente:"
      ]
    },
    {
      "cell_type": "code",
      "metadata": {
        "id": "aUWpc-ysKyZP"
      },
      "source": [
        "def circle(t, r):\n",
        "    arc(t, r, 360)\n",
        "\n",
        "#desenhar um circulo vermelho de raio 50\n",
        "alice.reset()\n",
        "alice.speed(10)\n",
        "alice.color(\"red\")\n",
        "circle(alice,50)"
      ],
      "execution_count": null,
      "outputs": []
    },
    {
      "cell_type": "markdown",
      "metadata": {
        "id": "NsJ6R0HDgBGh"
      },
      "source": [
        "## Exercícios - Parte 1:\n",
        "1. [**Não é possível fazer no Google Colab. Faça no trinket!**] Imprima o tipo de objeto que é uma tartaruga.\n",
        "1. [**Não é possível fazer no Google Colab. Faça no trinket!**] Modifique o programa da tartaruga (primeiro exemplo) para que, antes de criar a janela, ele solicite que o usuário insira a cor de fundo desejada. Ele deve armazenar as respostas do usuário em uma variável e modificar a cor da janela de acordo com os desejos do usuário.\n",
        "   * ***Dicas***: faça uso da função ***input***, built-in do python\n",
        "   * você pode encontrar uma lista de nomes de cores permitidos em http://www.tcl.tk/man/tcl8.4/TkCmd/colors.htm. Inclui alguns bem incomuns, como “peach puff” e “HotPink” ”***\n",
        "   \n",
        "1. Faça modificações similares para permitir que o usuário mude a cor da tartaruga durante a execução do programa.\n",
        "   1. Faça o mesmo para a largura da caneta da tartaruga. *Dica: seu diálogo com o usuário retornará uma string, mas o método ```pensize``` ( ```width``` no Google Colab) espera que seu argumento seja um **int**. Então, você precisará converter a **string** em um **int** antes de passá-la para **pensize**.*   \n",
        "   \n",
        "1. Investiguem os métodos e atributos do módulo ```turtle```  (```ColabTurtle``` no Google Colab);\n",
        "\n",
        "1. Desenhe um quadrado, usando a forma de tartaruga, ao invés da flecha, para desenhar (***caso esteja no Google Colab, não precisa mudar a forma***).\n",
        "   1. mude a velocidade com que a tartaruga faz o desenho.\n",
        "   \n",
        "1. Sabendo que o ângulo interno da ponta de uma estrela de 5 pontas é de 36 graus, desenhe uma estrela.\n",
        "![title](https://github.com/malbouis/Python_intro/blob/master/aulas_2019/pics/estrela.png?raw=1)\n",
        "\n",
        "1. Sabendo o ângulo interno da ponta de uma estrela, desenhe quatro estrelas em uma janela, com uma certa distância entre elas. Dica: use a função penup() e pendown() do módulo ```turtle```."
      ]
    },
    {
      "cell_type": "markdown",
      "metadata": {
        "id": "Nrky4VThKyZS"
      },
      "source": [
        "## Exercícios - Parte 2:\n",
        "  \n",
        "1. Escreva um conjunto apropriadamente geral de funções que possam desenhar flores como na Figura abaixo:\n",
        "![flowers](https://github.com/malbouis/Python_intro/blob/master/aulas_2019/pics/flowers.png?raw=1)\n",
        "1. Escreva um conjunto apropriadamente geral de funções que podem desenhar formas como na figura:\n",
        "![shapes](https://github.com/malbouis/Python_intro/blob/master/aulas_2019/pics/shapes_turtle.png?raw=1)\n",
        "Veja mais exercícios em: http://greenteapress.com/thinkpython2/html/thinkpython2005.html#sec42\n",
        "e: http://dfnae.fis.uerj.br/twiki/bin/view/DFNAE/IntroPython#Aula_6\n",
        "\n",
        "1. Adicione instruções para desenhar o talo e folha da flor. Faça a refatoração apropriada para a interface da flor completa ficar \"limpa\".\n",
        "1. As letras do alfabeto podem ser construídas a partir de um número moderado de elementos básicos, como linhas verticais e horizontais e algumas curvas. Projete um alfabeto que possa ser desenhado com um número mínimo de elementos básicos e depois escreva funções que desenhem as letras.\n",
        "   1. Você deve escrever uma função para cada letra, com os nomes ```draw_a_```, ```_draw_b_```, etc., e colocar suas funções em um arquivo chamado ```letters.py```. Você pode baixar uma “turtle typewriter” de http://thinkpython2.com/code/typewriter.py para ajudá-lo a testar seu código.\n",
        "   1. Você pode obter uma solução em http://thinkpython2.com/code/letters.py; também requer http://thinkpython2.com/code/polygon.py.\n",
        "1. Leia sobre espirais em http://en.wikipedia.org/wiki/Spiral; em seguida, escreva um programa que desenhe uma espiral arquimediana (ou um dos outros tipos). Solução: http://thinkpython2.com/code/spiral.py."
      ]
    }
  ]
}