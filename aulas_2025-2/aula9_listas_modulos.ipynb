{
  "nbformat": 4,
  "nbformat_minor": 0,
  "metadata": {
    "kernelspec": {
      "display_name": "Python 3",
      "language": "python",
      "name": "python3"
    },
    "language_info": {
      "codemirror_mode": {
        "name": "ipython",
        "version": 3
      },
      "file_extension": ".py",
      "mimetype": "text/x-python",
      "name": "python",
      "nbconvert_exporter": "python",
      "pygments_lexer": "ipython3",
      "version": "3.7.0"
    },
    "colab": {
      "name": "aula9_listas_modulos.ipynb",
      "provenance": [],
      "collapsed_sections": [],
      "include_colab_link": true
    }
  },
  "cells": [
    {
      "cell_type": "markdown",
      "metadata": {
        "id": "view-in-github",
        "colab_type": "text"
      },
      "source": [
        "<a href=\"https://colab.research.google.com/github/malbouis/Python_intro/blob/master/aulas_2021-1/aula9_listas_modulos.ipynb\" target=\"_parent\"><img src=\"https://colab.research.google.com/assets/colab-badge.svg\" alt=\"Open In Colab\"/></a>"
      ]
    },
    {
      "cell_type": "markdown",
      "metadata": {
        "id": "nPetphOMiusH"
      },
      "source": [
        "# Listas (continuação), Módulos e Arquivos\n",
        "\n",
        "Até aqui vimos que listas são coleções ordenadas de sequencias  de valores. Vimos:\n",
        "* como criar listas;\n",
        "* como acessar elementos de uma lista;\n",
        "* comprimento de uma lista;\n",
        "* listas são **mutáveis**; \n",
        "* ***fatias*** de lista;\n",
        "* métodos de lista.\n",
        "\n",
        "\n",
        "Hoje veremos:\n",
        "\n",
        "* referências a listas;\n",
        "* **clonagem** de listas;\n",
        "* listas como parâmetros de funções;\n",
        "* funções **puras** e **modificadoras**."
      ]
    },
    {
      "cell_type": "markdown",
      "metadata": {
        "id": "DZHxpAOhmdr7"
      },
      "source": [
        "## Objetos e referências\n",
        "\n",
        "Se executarmos os seguintes comandos:"
      ]
    },
    {
      "cell_type": "code",
      "metadata": {
        "id": "OaJDEFFmiusH"
      },
      "source": [
        "a = \"banana\"\n",
        "b = \"banana\""
      ],
      "execution_count": null,
      "outputs": []
    },
    {
      "cell_type": "markdown",
      "metadata": {
        "id": "_6e_gr_ziusK"
      },
      "source": [
        "Sabemos que ***a*** e ***b*** se referirão a uma ***string*** mas não sabemos se eles apontam para o mesmo objeto de Python.\n",
        "\n",
        "O interpretador pode organizar sua memória de duas maneiras:\n",
        "\n",
        "* referir ***a*** e ***b*** a dois objetos distintos com os mesmos valores\n",
        "* referir ***a*** e ***b*** ao mesmo objeto\n",
        "\n",
        "![refstring](https://github.com/malbouis/Python_intro/blob/master/aulas_2019/pics/ref_string.png?raw=1)\n",
        "\n",
        "Podemos testar se duas variáveis se referem ao mesmo objeto:"
      ]
    },
    {
      "cell_type": "code",
      "metadata": {
        "id": "kXF72v-_iusL"
      },
      "source": [
        "a is b"
      ],
      "execution_count": null,
      "outputs": []
    },
    {
      "cell_type": "markdown",
      "metadata": {
        "id": "nOoAV9qQiusN"
      },
      "source": [
        "Nesse exemplo abaixo, ***a*** e ***b*** têm o mesmo valor mas não se referem ao mesmo objeto.\n",
        "\n",
        "![refstring](https://github.com/malbouis/Python_intro/blob/master/aulas_2019/pics/ref_list.png?raw=1)"
      ]
    },
    {
      "cell_type": "code",
      "metadata": {
        "id": "64zoncRQlfAi"
      },
      "source": [
        "a=[1,2,3]\n",
        "b=[1,2,3]\n",
        "a is b"
      ],
      "execution_count": null,
      "outputs": []
    },
    {
      "cell_type": "markdown",
      "metadata": {
        "id": "2HNrtZH7ok_Q"
      },
      "source": [
        "## Alias\n",
        "\n",
        "Podemos forçar ***a*** e ***b*** a se referirem ao mesmo objeto. Com isso, criamos um **alias** (apelido).\n",
        "\n",
        "No exemplo acima, **a** e **b** são objetos distintos."
      ]
    },
    {
      "cell_type": "code",
      "metadata": {
        "id": "KYAxoh4kiusN"
      },
      "source": [
        "a is b"
      ],
      "execution_count": null,
      "outputs": []
    },
    {
      "cell_type": "markdown",
      "metadata": {
        "id": "mcE0QCU6oz3s"
      },
      "source": [
        "\n",
        "Entretanto, podemos forçar **a** e **b** se referirem ao mesmo objeto, criando um **alias**, da seguinte maneira:"
      ]
    },
    {
      "cell_type": "code",
      "metadata": {
        "id": "O8nefcShiusP"
      },
      "source": [
        "a = b\n",
        "a is b"
      ],
      "execution_count": null,
      "outputs": []
    },
    {
      "cell_type": "code",
      "metadata": {
        "id": "tZr-gar2iusR"
      },
      "source": [
        "a.append(88)\n",
        "print('a = ', a, ', b = ', b)\n",
        "# b = ?\n",
        "# a = ?"
      ],
      "execution_count": null,
      "outputs": []
    },
    {
      "cell_type": "markdown",
      "metadata": {
        "id": "30ESoTdYiusT"
      },
      "source": [
        "### O que aconteceu???\n",
        "\n",
        "![difflists](https://github.com/malbouis/Python_intro/blob/master/aulas_2019/pics/diff_lists.png?raw=1)\n",
        "![samelists](https://github.com/malbouis/Python_intro/blob/master/aulas_2019/pics/same_lists.png?raw=1)\n",
        "\n",
        "\n",
        "### Recomendações em relação a **aliases**:\n",
        "Em geral, é mais seguro evitar fazer um **alias** de objetos **mutáveis**, como listas. Para objetos **imutáveis**, como strings, não há restrições de se fazer **aliases**.\n",
        "\n",
        "## Clonagem de listas\n",
        "\n",
        "Se quisermos modificar uma lista e ao mesmo tempo mantermos uma cópia inalterada dessa lista, devemos **cloná-la**:"
      ]
    },
    {
      "cell_type": "code",
      "metadata": {
        "id": "FQP0rFatiusU"
      },
      "source": [
        "lista = [1, 2, 3]\n",
        "clone_lista = lista[:] # clone feito ao tomar uma fatia de toda a lista.\n",
        "clone_lista"
      ],
      "execution_count": null,
      "outputs": []
    },
    {
      "cell_type": "markdown",
      "metadata": {
        "id": "eJWj0pKliusV"
      },
      "source": [
        "Podemos então criar uma nova lista ao tomar uma **fatia** de **toda a lista**.\n",
        "\n",
        "![reflist](https://github.com/malbouis/Python_intro/blob/master/aulas_2019/pics/ref_list.png?raw=1)\n",
        "\n",
        "\n",
        "E agora, como cada uma das listas é uma referência a um objeto diferente, podemos modificar uma variável, sem modificar a outra:"
      ]
    },
    {
      "cell_type": "code",
      "metadata": {
        "id": "5pinnZzAiusW"
      },
      "source": [
        "a = [1, 2, 3]\n",
        "b = a[:]\n",
        "a.append(88)\n",
        "print ('a: ', a, ', b: ', b)\n",
        "\n",
        "b[2] = 199\n",
        "print ('a: ', a, ', b: ', b)"
      ],
      "execution_count": null,
      "outputs": []
    },
    {
      "cell_type": "markdown",
      "metadata": {
        "id": "Mj-Yyw9KiusY"
      },
      "source": [
        "## Listas e loops ***for***\n",
        "\n",
        "Suponha que temos duas listas. Se elas forem de tamanhos iguais, queremos imprimir seus valores em um único loop."
      ]
    },
    {
      "cell_type": "code",
      "metadata": {
        "id": "C3UMA_oZiusY"
      },
      "source": [
        "lista1 = [1,3,5,7,9,11,13,15]\n",
        "lista2 = [2,4,6,8,10,12,14,16]\n",
        "\n",
        "# as listas têm o mesmo tamanho?\n",
        "len(lista1) == len(lista2)"
      ],
      "execution_count": null,
      "outputs": []
    },
    {
      "cell_type": "code",
      "metadata": {
        "id": "98grbrQyiusb"
      },
      "source": [
        "# se as listas têm o mesmo número de elementos, imprima todos os elementos de cada uma das listas\n",
        "if (len(lista1) == len(lista2)):\n",
        "    print(range(len(lista1)))\n",
        "    for i in range(len(lista1)):\n",
        "        print(lista1[i])\n",
        "        print(lista2[i])"
      ],
      "execution_count": null,
      "outputs": []
    },
    {
      "cell_type": "markdown",
      "metadata": {
        "id": "Ea_39iPgmZMA"
      },
      "source": [
        "Podemos usar a função ``enumerate`` para percorrer uma lista e também obter os índices:"
      ]
    },
    {
      "cell_type": "code",
      "metadata": {
        "id": "mo9rE7iAiuse"
      },
      "source": [
        "alunos = ['Ana', 'Luiz', 'Maria', 'Joana']\n",
        "idades = [16, 18, 17, 19]\n",
        "\n",
        "if (len(alunos)==len(idades)):\n",
        "    for (i, valor) in enumerate(alunos):\n",
        "        print(valor, ' tem ', idades[i], ' anos')"
      ],
      "execution_count": null,
      "outputs": []
    },
    {
      "cell_type": "markdown",
      "metadata": {
        "id": "iPl2pO-Jiush"
      },
      "source": [
        "## Métodos de listas\n",
        "\n",
        "As listas são um tipo de dados de python. Sendo assim têm métodos (funções) associadas a elas, que são acessadas através do ponto:"
      ]
    },
    {
      "cell_type": "code",
      "metadata": {
        "id": "eibBqsJ2iusj"
      },
      "source": [
        "mylist = []\n",
        "mylist.append(5)\n",
        "mylist.append(27)\n",
        "mylist.append(3)\n",
        "mylist.append(12)\n",
        "mylist"
      ],
      "execution_count": null,
      "outputs": []
    },
    {
      "cell_type": "code",
      "metadata": {
        "id": "R3BI2G9Ziusl"
      },
      "source": [
        "mylist.insert(1, 12) # insere o item 12 na posição 1. Todos os outros itens da lista são desolcados para cima.\n",
        "mylist"
      ],
      "execution_count": null,
      "outputs": []
    },
    {
      "cell_type": "code",
      "metadata": {
        "id": "2-8y2Y7ciusr"
      },
      "source": [
        "mylist.count(12) # conta quantas vezes o valor 12 aparece na lista"
      ],
      "execution_count": null,
      "outputs": []
    },
    {
      "cell_type": "code",
      "metadata": {
        "id": "E2Yfop5Riust"
      },
      "source": [
        "mylist.extend([5, 9, 5, 11])  # coloca toda a lista do argumento no final da lista mylist\n",
        "mylist"
      ],
      "execution_count": null,
      "outputs": []
    },
    {
      "cell_type": "code",
      "metadata": {
        "id": "U2atvTmaiusu"
      },
      "source": [
        "mylist.index(9) # encontra o índice do primeiro valor 9 de mylist"
      ],
      "execution_count": null,
      "outputs": []
    },
    {
      "cell_type": "code",
      "metadata": {
        "id": "S7ZmWv2hiusx"
      },
      "source": [
        "mylist.reverse() # reverte todos os objetos de mylist\n",
        "mylist"
      ],
      "execution_count": null,
      "outputs": []
    },
    {
      "cell_type": "code",
      "metadata": {
        "id": "VDAoU1A8ius0"
      },
      "source": [
        "mylist.sort()  # ordena os valores de uma lista\n",
        "mylist"
      ],
      "execution_count": null,
      "outputs": []
    },
    {
      "cell_type": "code",
      "metadata": {
        "id": "eeV5Dvyjius4"
      },
      "source": [
        "mylist.remove(12)  # remove o primeiro elemento de valor 12 de mylist\n",
        "mylist"
      ],
      "execution_count": null,
      "outputs": []
    },
    {
      "cell_type": "markdown",
      "metadata": {
        "id": "miEvQWoiius6"
      },
      "source": [
        "## Strings e listas\n",
        "\n",
        "Dois dos métodos mais úteis em ***strings*** envolvem conversão de ***strings*** para ***listas*** de substrings e vice-versa. \n",
        "\n",
        "\n",
        "O método ***split*** divide uma ***string*** em uma ***lista*** de palavras. O padrão é considerar caracteres de espaço em branco como **delimitador** de palavras:"
      ]
    },
    {
      "cell_type": "code",
      "metadata": {
        "id": "7V0AYKrzius6"
      },
      "source": [
        "musica = \"O sol há de brilhar mais uma vez\"\n",
        "palavras = musica.split()\n",
        "palavras"
      ],
      "execution_count": null,
      "outputs": []
    },
    {
      "cell_type": "markdown",
      "metadata": {
        "id": "wyl93fYwius9"
      },
      "source": [
        "Podemos especificar um **delimitador**. Por exemplo, podemos escolher a letra 'a' como **delimitador**, no lugar do padrão."
      ]
    },
    {
      "cell_type": "code",
      "metadata": {
        "id": "OI3L5jBcius-"
      },
      "source": [
        "palavras = musica.split('a')\n",
        "palavras"
      ],
      "execution_count": null,
      "outputs": []
    },
    {
      "cell_type": "markdown",
      "metadata": {
        "id": "fqQwoO6GiutD"
      },
      "source": [
        "O inverso do método ***split*** é o ***join***. Para juntar as strings, escolhemos um **separador** como parâmetro."
      ]
    },
    {
      "cell_type": "code",
      "metadata": {
        "id": "4jvoAPmZiutG"
      },
      "source": [
        "cola = 'a'\n",
        "palavras_coladas = cola.join(palavras)\n",
        "palavras_coladas"
      ],
      "execution_count": null,
      "outputs": []
    },
    {
      "cell_type": "markdown",
      "metadata": {
        "id": "hwq5E61_iutI"
      },
      "source": [
        "## List Comprehension\n",
        "\n",
        "A compreensão de listas fornece uma maneira concisa de criar listas. \n",
        "Aplicações comuns são fazer novas listas onde cada elemento é o resultado de algumas operações aplicadas a cada membro de outra seqüência ou iterável, ou criar uma subsequência daqueles elementos que satisfazem uma determinada condição."
      ]
    },
    {
      "cell_type": "code",
      "metadata": {
        "id": "ZsOWODOoiutJ"
      },
      "source": [
        "squares = []\n",
        "for x in range(10):\n",
        "    squares.append(x**2)\n",
        "\n",
        "print(squares)\n"
      ],
      "execution_count": null,
      "outputs": []
    },
    {
      "cell_type": "code",
      "metadata": {
        "id": "blPuBvJxiutL"
      },
      "source": [
        "squares2 = [x**2 for x in range(10)]\n",
        "print(squares2)"
      ],
      "execution_count": null,
      "outputs": []
    },
    {
      "cell_type": "code",
      "metadata": {
        "id": "Z8OL13GviutP"
      },
      "source": [
        "[(x,y) for x in [1,2,3] for y in [3,1,4] if x != y]"
      ],
      "execution_count": null,
      "outputs": []
    },
    {
      "cell_type": "code",
      "metadata": {
        "id": "e2wFrReeiutU"
      },
      "source": [
        "from math import pi\n",
        "[str(round(pi, i)) for i in range(1, 6)]"
      ],
      "execution_count": null,
      "outputs": []
    },
    {
      "cell_type": "markdown",
      "metadata": {
        "id": "E9ITlrNBiutZ"
      },
      "source": [
        "## Exercícios\n",
        "\n",
        "1) Considere a função abaixo. Esse tipo de função é considerada uma **função modificadora** pois modifica o objeto que é passado como argumento. "
      ]
    },
    {
      "cell_type": "code",
      "metadata": {
        "id": "iKwmsYgeiutZ"
      },
      "source": [
        "def dobrar_elementos(uma_lista):\n",
        "    \"\"\" Reescreve os elementos de uma_lista com o dobro de seus valores originais.\n",
        "    \"\"\"\n",
        "    for (i, valor) in enumerate(uma_lista):\n",
        "        novo_elem = 2 * valor\n",
        "        uma_lista[i] = novo_elem\n",
        "\n",
        "    return uma_lista\n",
        "\n",
        "minha_lista = [2, 4, 6]\n",
        "print(minha_lista)\n",
        "dobrar_elementos(minha_lista)\n",
        "print(minha_lista)"
      ],
      "execution_count": null,
      "outputs": []
    },
    {
      "cell_type": "markdown",
      "metadata": {
        "id": "i23JYSmRiutb"
      },
      "source": [
        "a) Modifique a função para retornar uma **nova lista**, sem modificar a lista usada como parâmetro. Esse tipo de função é chamado de **função pura**.\n",
        "\n",
        "\n",
        "b) Modifique a documentação de ajuda da nova função, de tal forma que quando se chame a função ***help*** da nova função, se obtenha a descrição adequada."
      ]
    },
    {
      "cell_type": "code",
      "metadata": {
        "id": "RgYPzOGCiutc"
      },
      "source": [
        "help(dobrar_elementos)"
      ],
      "execution_count": null,
      "outputs": []
    },
    {
      "cell_type": "code",
      "metadata": {
        "id": "tmKDZTws-PuD"
      },
      "source": [
        "# sorteando elementos de uma lista com o módulo random:\n",
        "import random\n",
        "\n",
        "nomes=['Helena', 'Dilson', 'Janaina', 'Isabela']\n",
        "sorteado = random.choice(nomes)\n",
        "print(sorteado)"
      ],
      "execution_count": null,
      "outputs": []
    },
    {
      "cell_type": "markdown",
      "metadata": {
        "id": "GYSWbfQ33TrD"
      },
      "source": [
        "# Módulos e Arquivos\n",
        "\n",
        "\n",
        "## Módulos\n",
        "\n",
        "Um módulo é um arquivo contendo definições e instruções do Python destinadas a uso em ***outros programas*** do Python. Existem muitos módulos de Python que vêm como parte da biblioteca padrão. Já vimos (pelo menos) dois deles, o módulo ```turtle``` e o módulo ```string```. Documentação sobre esses e outros módulos pode ser encontrada no site https://docs.python.org/3.5/library/index.html.\n",
        "\n",
        "\n",
        "**Nessa aula mostraremos como qualquer arquivo que contenha código Python pode ser importado como um módulo.**\n",
        "\n",
        "### Criando módulos \n",
        "Tudo o que precisamos para criar um módulo é um arquivo de texto com uma extensão .py no nome do arquivo:\n",
        "\n"
      ]
    },
    {
      "cell_type": "code",
      "metadata": {
        "id": "tga6ov2i3TrE"
      },
      "source": [
        "# esse comando logo abaixo é do jupyter notebook para escrever um arquivo .py\n",
        "%%writefile Seqtools.py \n",
        "def  remover_em ( pos ,  seq ): \n",
        "    return  seq [: pos ]  +  seq [ pos + 1 :]\n"
      ],
      "execution_count": null,
      "outputs": []
    },
    {
      "cell_type": "code",
      "metadata": {
        "id": "3DxthzW2H1aC"
      },
      "source": [
        "# ler o aqruivo que acabamos de criar:\n",
        "%cat Seqtools.py"
      ],
      "execution_count": null,
      "outputs": []
    },
    {
      "cell_type": "markdown",
      "metadata": {
        "id": "BNuaN-QX3TrI"
      },
      "source": [
        "Agora podemos usar nosso módulo nos scripts e no shell do Python. Para fazer isso, devemos primeiro importar o módulo. Existem duas maneiras de fazer isso:"
      ]
    },
    {
      "cell_type": "code",
      "metadata": {
        "id": "GaFnnDWI3TrJ"
      },
      "source": [
        "import  Seqtools \n",
        "s  =  \"O string!\" \n",
        "Seqtools.remover_em( 4 ,  s ) "
      ],
      "execution_count": null,
      "outputs": []
    },
    {
      "cell_type": "markdown",
      "metadata": {
        "id": "sP10o5r93TrO"
      },
      "source": [
        "ou também"
      ]
    },
    {
      "cell_type": "code",
      "metadata": {
        "id": "LjGUT1nr3TrP"
      },
      "source": [
        "from Seqtools import remover_em\n",
        "s = \"o string!\"\n",
        "remover_em(4,s)\n"
      ],
      "execution_count": null,
      "outputs": []
    },
    {
      "cell_type": "markdown",
      "metadata": {
        "id": "V9_jXhY53TrS"
      },
      "source": [
        "No primeiro exemplo o nome do módulo e um ponto é escrito antes do nome da função, separados de um ponto(```.```). No segundo exemplo só a função ```remover_em``` é importada, e a  chamada é feita exatamente como as funções que vimos anteriormente, sem necesidade de incluir o nome do módulo.\n",
        "\n",
        "Observe que, em ambos os casos, não incluímos a extensão do arquivo ```.py``` ao importar. O Python espera que os nomes de arquivos dos módulos do Python sejam finalizados em ```.py``` , portanto, a extensão do arquivo não é incluída na instrução de importação.\n",
        "\n",
        "O uso de módulos permite **dividir programas muito grandes** em partes de **tamanho gerenciável** e manter as partes relacionadas juntas."
      ]
    },
    {
      "cell_type": "markdown",
      "metadata": {
        "id": "gCVmHeel3TrT"
      },
      "source": [
        "Outro exemplo é apresentado com  o arquivo ```lcount.py```  definido assim:\n"
      ]
    },
    {
      "cell_type": "code",
      "metadata": {
        "id": "Sn2hs_YeJj8f"
      },
      "source": [
        "%%writefile lcount.py\n",
        "\n",
        "def linecount(filename):\n",
        "    count = 0\n",
        "    for line in open(filename):\n",
        "        count += 1\n",
        "    return count\n",
        "\n",
        "linecount('lcount.py')"
      ],
      "execution_count": null,
      "outputs": []
    },
    {
      "cell_type": "code",
      "metadata": {
        "id": "MCXPlsE7JxRR"
      },
      "source": [
        "%cat lcount.py"
      ],
      "execution_count": null,
      "outputs": []
    },
    {
      "cell_type": "code",
      "metadata": {
        "id": "jcM3SMT0KVYi"
      },
      "source": [
        "linecount('lcount.py')"
      ],
      "execution_count": null,
      "outputs": []
    },
    {
      "cell_type": "markdown",
      "metadata": {
        "id": "d65YS7gE3TrY"
      },
      "source": [
        "Se você executar este programa, ele lê a si mesmo e imprime o número de linhas no arquivo, que é 7. \n",
        "\n",
        "Você também pode importá-lo:"
      ]
    },
    {
      "cell_type": "code",
      "metadata": {
        "id": "H0TOZOzF3TrZ"
      },
      "source": [
        "import lcount"
      ],
      "execution_count": null,
      "outputs": []
    },
    {
      "cell_type": "markdown",
      "metadata": {
        "id": "Kmc4yJLc3Trc"
      },
      "source": [
        "Agora podemos usar a função do módulo em outros programas, pois temos o **objeto** `lcount` com sua função associada."
      ]
    },
    {
      "cell_type": "code",
      "metadata": {
        "id": "1VhucDFu3Trd"
      },
      "source": [
        "print(lcount.linecount(\"Seqtools.py\"))\n",
        "#print(lcount.linecount(\"dados_alunos.txt\"))"
      ],
      "execution_count": null,
      "outputs": []
    },
    {
      "cell_type": "markdown",
      "metadata": {
        "id": "oEIlmEg13Trg"
      },
      "source": [
        "O único problema com este exemplo é que quando você importa o módulo, ele executa o código de teste na parte inferior. Normalmente, quando você importa um módulo, ele define novas funções, mas não as executa.\n",
        "\n",
        "Programas que serão importados como módulos geralmente usam o seguinte idioma:"
      ]
    },
    {
      "cell_type": "code",
      "metadata": {
        "id": "hrW5yWZe3Trh"
      },
      "source": [
        "if __name__ == '__main__':\n",
        "    print(linecount('lcount.py'))"
      ],
      "execution_count": null,
      "outputs": []
    },
    {
      "cell_type": "markdown",
      "metadata": {
        "id": "pWryVMSB3Trk"
      },
      "source": [
        "Pontos importantes:\n",
        "\n",
        "* O identificador ```__name__``` é uma variável interna que é configurada quando o programa é iniciado; \n",
        "* Se o programa estiver sendo executado como um script, ```__name__``` tem o valor ```'__main__'```; \n",
        "   * Nesse caso, o código de teste é executado. \n",
        "\n",
        "* Caso contrário, se o módulo estiver sendo ***importado***, o código de teste será ignorado."
      ]
    },
    {
      "cell_type": "markdown",
      "metadata": {
        "id": "JrWQHOZA3Trk"
      },
      "source": [
        "## Arquivos\n",
        "\n",
        "Este capítulo introduz a ideia de programas **“persistentes”** que mantêm os dados em armazenamento permanente e mostra como usar diferentes tipos de armazenamento permanente, como arquivos.\n",
        "\n",
        "\n",
        "### Persistência\n",
        "\n",
        "* A maioria dos programas que vimos até agora é **transitória**:\n",
        "   * são executados por um curto período de tempo e produzem alguma saída, mas quando terminam, seus dados desaparecem. \n",
        "   * Se você executar o programa novamente, ele começa do zero.\n",
        "\n",
        "* Outros programas são **persistentes**: \n",
        "   * são executados por um longo período (ou o tempo todo); \n",
        "   * mantêm pelo menos alguns dos seus dados em armazenamento permanente (um disco rígido, por exemplo); \n",
        "   * se eles desligarem e reiniciarem, eles continuam de onde pararam.\n",
        "   \n",
        "\n",
        "* Uma das formas mais simples de programas manterem seus dados é lendo e gravando arquivos de texto.\n",
        "* Outra alternativa é o uso de banco de dados, porém não abordaremos esse assunto aqui.\n",
        "\n",
        "\n",
        "## Leitura e escrita de arquivos\n",
        "\n",
        "Um arquivo de texto é uma sequência de caracteres armazenados em um meio permanente, como um disco rígido, uma memória flash ou um CD-ROM. \n",
        "\n",
        "### Leitura de um arquivo de texto\n",
        "Vamos criar um arquivo, 'dados_alunos.txt'.\n"
      ]
    },
    {
      "cell_type": "code",
      "metadata": {
        "id": "kpb-ypaThrJV"
      },
      "source": [
        "%%writefile dados_alunos.txt\n",
        "18\t1.68\t80\n",
        "18\t1.94\t60\n",
        "18\t1.7\t80\n",
        "18\t1.76\t66\n",
        "19\t1.73\t87.5\n",
        "18\t1.66\t58\n",
        "21\t1.8\t92\n",
        "18\t1.6\t57\n",
        "18\t1.67\t64\n",
        "18\t1.73\t57\n",
        "17\t1.73\t75\n",
        "18\t1.61\t59\n",
        "18\t1.69\t90\n",
        "17\t1.71\t67\n",
        "19\t1.78\t60\n",
        "22\t1.68\t72\n",
        "18\t1.7\t73\n",
        "19\t1.64\t86\n",
        "18\t1.64\t75\n",
        "20\t1.8\t95\n",
        "17\t1.75\t60\n",
        "18\t1.78\t75\n",
        "18\t1.75\t65\n",
        "17\t1.69\t60\n",
        "19\t1.78\t73\n",
        "18\t1.7\t63\n",
        "34\t1.75\t78\n",
        "18\t1.64\t64\n",
        "19\t1.75\t50\n",
        "18\t1.67\t61\n",
        "18\t1.7\t70\n",
        "20\t1.8\t60\n",
        "18\t1.63\t57\n",
        "23\t1.89\t110\n",
        "18\t1.71\t71\n",
        "18\t1.65\t65\n",
        "17\t1.72\t67\n",
        "19\t1.65\t58\n",
        "18\t1.75\t90\n",
        "18\t1.7\t64\n",
        "19\t1.81\t70\n",
        "19\t1.65\t43\n",
        "28\t1.52\t50\n",
        "19\t1.79\t78\n",
        "26\t1.79\t82\n",
        "19\t1.75\t61\n",
        "19\t1.8\t70\n",
        "20\t1.75\t70\n",
        "20\t1.73\t70\n",
        "19\t1.7\t50\n",
        "22\t1.78\t72\n",
        "19\t1.77\t55\n",
        "18\t1.53\t58\n",
        "28\t1.54\t50\n",
        "20\t1.83\t70\n",
        "44\t1.85\t90\n",
        "18\t1.6\t51"
      ],
      "execution_count": null,
      "outputs": []
    },
    {
      "cell_type": "code",
      "metadata": {
        "id": "HODFJmTgh4ec"
      },
      "source": [
        "%cat dados_alunos.txt"
      ],
      "execution_count": null,
      "outputs": []
    },
    {
      "cell_type": "markdown",
      "metadata": {
        "id": "Rc6SplvJhpGL"
      },
      "source": [
        "Para ler o arquivo, usamos a seguinte sintaxe:"
      ]
    },
    {
      "cell_type": "code",
      "metadata": {
        "id": "r3uLi_1D3Trl"
      },
      "source": [
        "fin = open('dados_alunos.txt')\n",
        "fin.readline()"
      ],
      "execution_count": null,
      "outputs": []
    },
    {
      "cell_type": "markdown",
      "metadata": {
        "id": "t63lEwtZ3Tro"
      },
      "source": [
        "O método readline() se atualiza para cada linha lida:"
      ]
    },
    {
      "cell_type": "code",
      "metadata": {
        "id": "cWDLZa9-3Tro"
      },
      "source": [
        "fin.readline()"
      ],
      "execution_count": null,
      "outputs": []
    },
    {
      "cell_type": "code",
      "metadata": {
        "id": "9Q7jWtEw3Trr"
      },
      "source": [
        "linha = fin.readline()\n",
        "linha.strip()"
      ],
      "execution_count": null,
      "outputs": []
    },
    {
      "cell_type": "markdown",
      "metadata": {
        "id": "UzjEpw9E3Tru"
      },
      "source": [
        "##### Lendo um arquivo com várias colunas:"
      ]
    },
    {
      "cell_type": "code",
      "metadata": {
        "id": "us6ggEPu3Tru"
      },
      "source": [
        "fin = open('dados_alunos.txt')\n",
        "linhas = fin.readlines()\n",
        "print (linhas)"
      ],
      "execution_count": null,
      "outputs": []
    },
    {
      "cell_type": "code",
      "metadata": {
        "id": "4FbvpMGX3Tr0"
      },
      "source": [
        "for line in linhas:\n",
        "    #print (line)\n",
        "    column = line.strip().split('\\t')\n",
        "    print (column)"
      ],
      "execution_count": null,
      "outputs": []
    },
    {
      "cell_type": "markdown",
      "metadata": {
        "id": "kcWZv6QTjzww"
      },
      "source": [
        "### O módulo Pandas\n",
        "\n",
        "Também é possível ler e escrever arquivos através do módulo Pandas.\n",
        "\n",
        "Vamos criar um arquivo com cabeçalho, baseado no arquivo `dados_alunos.txt` e lê-lo com o `pandas`."
      ]
    },
    {
      "cell_type": "code",
      "metadata": {
        "id": "XA78uB3-kQqb"
      },
      "source": [
        "%%writefile dados_alunos_cabecalho.csv\n",
        "I(a),A(m),M(Kg)\n",
        "18,1.68,80\n",
        "18,1.94,60\n",
        "18,1.7,80\n",
        "18,1.76,66\n",
        "19,1.73,87.5\n",
        "18,1.66,58\n",
        "21,1.8,92\n",
        "18,1.6,57\n",
        "18,1.67,64\n",
        "18,1.73,57"
      ],
      "execution_count": null,
      "outputs": []
    },
    {
      "cell_type": "code",
      "metadata": {
        "id": "7-15kiPYiTlJ"
      },
      "source": [
        "import pandas as pd\n",
        "\n",
        "df = pd.read_csv('dados_alunos_cabecalho.csv')\n",
        "\n",
        "df.head()"
      ],
      "execution_count": null,
      "outputs": []
    },
    {
      "cell_type": "code",
      "metadata": {
        "id": "DrRedbeEnW_J"
      },
      "source": [
        "df.tail()"
      ],
      "execution_count": null,
      "outputs": []
    },
    {
      "cell_type": "code",
      "metadata": {
        "id": "kpHFSiQlnb2i"
      },
      "source": [
        "df['I(a)']"
      ],
      "execution_count": null,
      "outputs": []
    },
    {
      "cell_type": "markdown",
      "metadata": {
        "id": "jiJ-X6uX3Tr3"
      },
      "source": [
        "## Escrita de um arquivo de texto\n",
        "\n",
        "Para escrever um arquivo, você precisa abri-lo com o modo 'w' como segundo parâmetro:"
      ]
    },
    {
      "cell_type": "code",
      "metadata": {
        "id": "SqMmQJbP3Tr4"
      },
      "source": [
        "fw = open('output.txt', 'w')"
      ],
      "execution_count": null,
      "outputs": []
    },
    {
      "cell_type": "markdown",
      "metadata": {
        "id": "nIZ8h20y3Tr6"
      },
      "source": [
        "* Se o arquivo já existir e abrí-lo no modo de escrita, os dados antigos são apagados e a escrita começa de novo. \n",
        "* Se o arquivo não existir, um novo será criado.\n",
        "\n",
        "\n",
        "* ***open*** retorna um objeto de arquivo que fornece métodos para trabalhar com o arquivo. \n",
        "* O método ***write*** coloca dados no arquivo."
      ]
    },
    {
      "cell_type": "code",
      "metadata": {
        "id": "aGHtiQrz3Tr7"
      },
      "source": [
        "linha1 = fw.write('primeira linha do arquivo. \\n')\n",
        "linha2 = fw.write('segunda linha do arquivo. \\n')\n",
        "print(linha1,linha2) # linha1 e linha2 salvam o numero de carateres escritos\n",
        "fw.close()"
      ],
      "execution_count": null,
      "outputs": []
    },
    {
      "cell_type": "code",
      "metadata": {
        "id": "Cbm3F-2hTdzJ"
      },
      "source": [
        "fw = open('output.txt', 'r')\n",
        "fw.readlines()\n"
      ],
      "execution_count": null,
      "outputs": []
    },
    {
      "cell_type": "markdown",
      "metadata": {
        "id": "0vauasHg3Tr9"
      },
      "source": [
        "## Operador de formatação\n",
        "\n",
        "O argumento do método ***write*** deve ser uma string, então, para escrever valores em um arquivo, temos que **convertê-los em strings**. A maneira mais fácil de fazer isso é com ***str***."
      ]
    },
    {
      "cell_type": "code",
      "metadata": {
        "id": "A8sU3jgr3Tr9"
      },
      "source": [
        "fout = open('ex_aula13.txt', 'w')\n",
        "x = 52\n",
        "fout.write(str(x))"
      ],
      "execution_count": null,
      "outputs": []
    },
    {
      "cell_type": "markdown",
      "metadata": {
        "id": "NSee7vAh3Tr_"
      },
      "source": [
        "Uma alternativa é usar o operador de formatação,%. \n",
        "   * Quando aplicado a números inteiros,% é o operador de módulo. \n",
        "   * Quando o primeiro operando é uma string,% é o operador de formatação.\n",
        "\n",
        "\n",
        "Por exemplo, a seqüência de formato **'%d'** significa que o segundo operando deve ser formatado como um **inteiro decimal**:"
      ]
    },
    {
      "cell_type": "code",
      "metadata": {
        "id": "5-hD2I6v3TsA"
      },
      "source": [
        "camelos = 42\n",
        "'%d' % camelos\n",
        "#'42'"
      ],
      "execution_count": null,
      "outputs": []
    },
    {
      "cell_type": "markdown",
      "metadata": {
        "id": "BvAmaEzx3TsC"
      },
      "source": [
        "Uma seqüência de formato pode aparecer em qualquer lugar da string, então você pode inserir um valor em uma frase:"
      ]
    },
    {
      "cell_type": "code",
      "metadata": {
        "id": "hmvLFoRe3TsC"
      },
      "source": [
        "'Temos ainda pelo menos %i projetos antes do final de %4.1f' % (2, 2020.1) "
      ],
      "execution_count": null,
      "outputs": []
    },
    {
      "cell_type": "markdown",
      "metadata": {
        "id": "Cu2EPkEk3TsE"
      },
      "source": [
        "#### Outra forma de formatação é usando o método de string 'format':"
      ]
    },
    {
      "cell_type": "code",
      "metadata": {
        "id": "KAxXBWgi3TsF"
      },
      "source": [
        "'Temos ainda pelo menos {0} projetos antes do final de {1:4.1f}'.format(2, 2020.1)"
      ],
      "execution_count": null,
      "outputs": []
    },
    {
      "cell_type": "markdown",
      "metadata": {
        "id": "OXcJfsnY3TsH"
      },
      "source": [
        "#### Novo estilo de formatação : f-strings ou formatted string litterals\n",
        "https://docs.python.org/3/reference/lexical_analysis.html#f-strings\n",
        "\n",
        "Uma forma mais \"moderna\" de formatar é utilizando as chamadas f-strings, que foi incluído a partir da versão do Python 3.6.\n",
        "\n",
        "* f-strings são prefixados com 'f' e são semelhantes às strings de formatação aceitas por `str.format()`;\n",
        "* Elas contêm campos de substituição entre chaves;\n",
        "   * Os campos de substituição são expressões, que são avaliadas em tempo de execução e, em seguida, formatadas usando o protocolo `format()`.\n"
      ]
    },
    {
      "cell_type": "code",
      "metadata": {
        "id": "Ic1QzCTB3TsH"
      },
      "source": [
        "f\"Tenho {2} projetos antes do final de {2020.2:4.1f} \""
      ],
      "execution_count": null,
      "outputs": []
    },
    {
      "cell_type": "code",
      "metadata": {
        "id": "PapfzolC3TsK"
      },
      "source": [
        "f\"Os camelos sabem o sentido da vida {camelos}\""
      ],
      "execution_count": null,
      "outputs": []
    },
    {
      "cell_type": "markdown",
      "metadata": {
        "id": "OlZuCWtA3TsM"
      },
      "source": [
        "## Nomes de arquivo e *paths*\n",
        "\n",
        "Através do módulo ***os*** podemos ter acesso a informação sobre diretórios e arquivos: "
      ]
    },
    {
      "cell_type": "code",
      "metadata": {
        "id": "maPVOMiD3TsN"
      },
      "source": [
        "import os\n",
        "cwd = os.getcwd()    #current working directory (diretório de trabalho)\n",
        "cwd"
      ],
      "execution_count": null,
      "outputs": []
    },
    {
      "cell_type": "markdown",
      "metadata": {
        "id": "4frjEChI3TsQ"
      },
      "source": [
        "O módulo ***os*** fornece vários métodos úteis de verificação de ***path*** e listagem de arquivos em um dado diretório:"
      ]
    },
    {
      "cell_type": "code",
      "metadata": {
        "id": "B8sOuli63TsQ"
      },
      "source": [
        "os.path.abspath('ex_aula13.txt')"
      ],
      "execution_count": null,
      "outputs": []
    },
    {
      "cell_type": "code",
      "metadata": {
        "id": "hDF7bbHt3TsT"
      },
      "source": [
        "os.path.exists('ex_aula13.txt')"
      ],
      "execution_count": null,
      "outputs": []
    },
    {
      "cell_type": "code",
      "metadata": {
        "id": "yNdrg5E43TsX"
      },
      "source": [
        "os.path.isdir('ex_aula13.txt')"
      ],
      "execution_count": null,
      "outputs": []
    },
    {
      "cell_type": "code",
      "metadata": {
        "id": "kRVlBE_k3TsZ"
      },
      "source": [
        "os.path.isdir('/Users/mariaclemenciamoraherrera/cernbox/PCUERJ/PythonUERJ/Python_intro_github/aulas/')"
      ],
      "execution_count": null,
      "outputs": []
    },
    {
      "cell_type": "code",
      "metadata": {
        "id": "PZXJJQNT3Tsc"
      },
      "source": [
        "os.path.isfile('ex_aula13.txt')"
      ],
      "execution_count": null,
      "outputs": []
    },
    {
      "cell_type": "code",
      "metadata": {
        "id": "z6QIYA5f3Tse"
      },
      "source": [
        "os.listdir(cwd)   # lista os arquivos e subdiretórios do diretório atual"
      ],
      "execution_count": null,
      "outputs": []
    },
    {
      "cell_type": "markdown",
      "metadata": {
        "id": "NV54e51P3Tsg"
      },
      "source": [
        "## Capturando exceções\n",
        "\n",
        "Há formas de prever e lidar com erros e exceções. \n",
        "\n",
        "Alguns exemplos de exceções:"
      ]
    },
    {
      "cell_type": "code",
      "metadata": {
        "id": "Hkyfu9j_3Tsh"
      },
      "source": [
        "fin = open('bad_file')    # quando o arquivo não existe"
      ],
      "execution_count": null,
      "outputs": []
    },
    {
      "cell_type": "code",
      "metadata": {
        "id": "RdGkSUXH3Tsj"
      },
      "source": [
        "fout = open('/etc/passwd', 'w')  # quando não temos permissão de escrever no diretório"
      ],
      "execution_count": null,
      "outputs": []
    },
    {
      "cell_type": "code",
      "metadata": {
        "id": "WeK2vjNF3Tsl"
      },
      "source": [
        "fin = open('/home')  # tentativa de abrir um diretório para leitura"
      ],
      "execution_count": null,
      "outputs": []
    },
    {
      "cell_type": "markdown",
      "metadata": {
        "id": "KCfEAFHN3Tsn"
      },
      "source": [
        "**Para evitar esses erros, você poderia usar funções como *os.path.exists* e *os.path.isfile*, mas levaria muito tempo e código para verificar todas as possibilidades (se “Errno 21” for qualquer indicação, há pelo menos 21 coisas que podem dar errado).**\n",
        "\n",
        "É melhor fazer uma tentativa e lidar com possíveis problemas. A declaração **try** faz isso!!!!"
      ]
    },
    {
      "cell_type": "code",
      "metadata": {
        "id": "Smph0R-93Tsn"
      },
      "source": [
        "try:    \n",
        "    fin = open('bad_file')\n",
        "except:\n",
        "    print('Algo de errado aconteceu.')"
      ],
      "execution_count": null,
      "outputs": []
    },
    {
      "cell_type": "markdown",
      "metadata": {
        "id": "0GgAFj8C3Tsp"
      },
      "source": [
        "* O Python começa executando a cláusula ***try***. \n",
        "   * Se tudo correr bem:\n",
        "      * ele pula a cláusula ***except*** e continua. \n",
        "   * Se ocorrer uma exceção: \n",
        "      * ele sai da cláusula ***try*** e executa a cláusula ***except***.\n",
        "      \n",
        "\n",
        "* Manipular uma exceção com uma instrução ***try*** é chamado de **captura de uma exceção**. \n",
        "\n",
        "Para leitura sobre tipos de erro e a sua manipulação, sugerimos o tutorial https://docs.python.org/3/tutorial/errors.html\n",
        "\n",
        "\n",
        "Uma forma de obter mais informação sobre o erro é chamar a excepção  com um identificador (nesse caso ```err```) e imprimi-lo assim como seu tipo."
      ]
    },
    {
      "cell_type": "code",
      "metadata": {
        "id": "miZv8Z3C3Tsr"
      },
      "source": [
        "try:\n",
        "    fin = open(\"another_bad_file\")\n",
        "except Exception as err:\n",
        "    print(type(err))\n",
        "    print(err)"
      ],
      "execution_count": null,
      "outputs": []
    },
    {
      "cell_type": "markdown",
      "metadata": {
        "id": "nkLDFzFC3Tst"
      },
      "source": [
        "## Tubos (pipes)\n",
        "\n",
        "A maioria dos sistemas operacionais fornece uma **interface de linha de comando**, também conhecida como **shell**. As shells geralmente fornecem comandos para navegar no sistema de arquivos e iniciar aplicativos.\n",
        "\n",
        "\n",
        "Qualquer programa que você pode iniciar a partir da shell também pode ser iniciado a partir do Python usando um objeto **pipe**, que representa um programa em execução.\n",
        "\n",
        "Por exemplo, o comando Unix *ls -l* exibe o conteúdo do diretório atual em formato longo. Você pode iniciar o *ls* com ***os.popen***:"
      ]
    },
    {
      "cell_type": "code",
      "metadata": {
        "id": "3rGU836h3Tst"
      },
      "source": [
        "cmd = 'ls -lh'\n",
        "fp = os.popen(cmd)"
      ],
      "execution_count": null,
      "outputs": []
    },
    {
      "cell_type": "markdown",
      "metadata": {
        "id": "V1Uhj1sj3Tsv"
      },
      "source": [
        "* O argumento é uma string que contém um comando shell. \n",
        "* O valor de retorno é um objeto que se comporta como um **arquivo aberto**. \n",
        "* Você pode ler a saída do processo *ls* uma linha de cada vez com ***readline*** ou obter tudo de uma vez com ***read***:"
      ]
    },
    {
      "cell_type": "code",
      "metadata": {
        "id": "dPhwoS1G3Tsw"
      },
      "source": [
        "print(fp.read())"
      ],
      "execution_count": null,
      "outputs": []
    },
    {
      "cell_type": "code",
      "metadata": {
        "id": "DsbuFVEG3Tsy"
      },
      "source": [
        "stat = fp.close()\n",
        "print(stat)"
      ],
      "execution_count": null,
      "outputs": []
    },
    {
      "cell_type": "markdown",
      "metadata": {
        "id": "oJpfbRJQ3Ts0"
      },
      "source": [
        "O valor de retorno é o status final do processo ```ls -lh```; ***None*** significa que terminou normalmente (sem erros)."
      ]
    },
    {
      "cell_type": "markdown",
      "metadata": {
        "id": "LkKV2_H23Ts1"
      },
      "source": [
        "## Exercícios:\n",
        "\n",
        "1) Utilizando um arquivo de dados com várias colunas (por exemplo, o arquivo ```dados_alunos.txt```), faça um histograma com os dados de cada uma das colunas. **Dica**: utilize o ***matplotlib*** para fazer os histogramas.\n",
        "\n",
        "2) Estude os métodos do módulo ```os``` e faça um script que liste todos os arquivos de um dado diretório assim como de seus subdiretórios. **Dica**: use o método ```walk```.\n",
        "\n",
        "3) **Reescreva o script dessa aula, ```lcount.py``` na forma de uma módulo. Qual o valor da variável ```__name__``` quando o módulo é importado?**\n",
        "\n",
        "4) Escreva uma função chamada ler_arquivos que tome como argumento um nome de arquivo, leia um arquivo com um número qualquer de colunas e retorne um **dicionário** que tenha como *keys* os números das colunas e como valor uma lista dos valores associados a cada coluna do arquivo. Use o arquivo dados_alunos.txt. Caso o arquivo tiver o cabeçalho das colunas, p.ex. dados_alunos_cabecalho.txt, a key deve ser a palavra do cabeçalho.\n",
        "\n",
        "   * Caso não queria usar dicionários, você pode pensar em uma estrutura de dados alternativa para armazenar os dados do arquivo, como por exemplo uma ou mais listas.\n",
        "   * Também pode usar funções já existentes nos módulos de Python `numpy` ou `pandas` para ler arquivos de texto e armazenar nas estruturas desses módulos (`DataFrames` ou `arrays`).\n",
        "   * Adapte a função acima para, se ocorrer um erro ao abrir, ler ou fechar arquivos, o programa capturar a exceção, imprimir uma mensagem de erro e sair.\n",
        "\n",
        "5) **Adapte o script acima para ser um módulo.**\n",
        "\n",
        "**6) Escreva um script que importe o módulo criado acima e faça um histograma para cada coluna do arquivo, com seus respectivos valores. Use o dicionário ou a estrutura de dados criada em 1).**\n",
        "\n",
        "7) Adicione uma função ao script criado em 6), que calcule o desvio padrão amostral, desvio padrão populacional e média de cada distribuição representada nos histogramas acima. Para tal, use o módulo `statistics` do Python ou outro módulo de Python (`numpy`, `scipy`)."
      ]
    }
  ]
}